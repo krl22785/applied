{
 "metadata": {
  "name": "",
  "signature": "sha256:179a57edf5e008b6981e2f5f12af2c1a2afb1d675edb46efa21d067e25a10f4a"
 },
 "nbformat": 3,
 "nbformat_minor": 0,
 "worksheets": [
  {
   "cells": [
    {
     "cell_type": "code",
     "collapsed": false,
     "input": [
      "import os\n",
      "import sys\n",
      "import numpy as np\n",
      "import matplotlib.pyplot as plt\n",
      "import scipy.ndimage as nd\n",
      "from scipy.ndimage.filters import median_filter as mf"
     ],
     "language": "python",
     "metadata": {},
     "outputs": [],
     "prompt_number": 145
    },
    {
     "cell_type": "markdown",
     "metadata": {},
     "source": [
      "- read in the Mona Lisa image\n",
      "- select every other pixel\n",
      "- invert the color values so that red is blue and blue is red\n",
      "- convert to a negative of the image\n",
      "- convert to floating point and smooth by a median filter of width 8 in row, 2 in column, and 1 in color\n",
      "- clip to [0,255]\n",
      "- convert back to numpy unsigned 8-bit integers\n"
     ]
    },
    {
     "cell_type": "code",
     "collapsed": false,
     "input": [
      "img = nd.imread('images/ml.jpg')"
     ],
     "language": "python",
     "metadata": {},
     "outputs": [],
     "prompt_number": 177
    },
    {
     "cell_type": "code",
     "collapsed": false,
     "input": [
      "# nrow = img.shape[0]\n",
      "# ncol = img.shape[1]\n",
      "# xs = 8\n",
      "# ys = xs * float(nrow)/float(ncol)\n",
      "\n",
      "# fig0, ax0 = plt.subplots(num=0,figsize=[xs,ys])\n",
      "# ax0.axis('off')\n",
      "# im0 = ax0.imshow(img)\n",
      "# fig0.canvas.draw()\n",
      "\n"
     ],
     "language": "python",
     "metadata": {},
     "outputs": [],
     "prompt_number": 150
    },
    {
     "cell_type": "code",
     "collapsed": false,
     "input": [
      "img[:,:,0][::,::2], img[:,:,2][::,::2] = img[:,:,2][::,::2], img[:,:,0][::,::2]\n",
      "#img[:,:,0][::2,::2], img[:,:,2][::2,::2] = img[:,:,2][::2,::2], img[:,:,0][::2,::2]"
     ],
     "language": "python",
     "metadata": {},
     "outputs": [],
     "prompt_number": 178
    },
    {
     "cell_type": "code",
     "collapsed": false,
     "input": [
      "nrow = img.shape[0]\n",
      "ncol = img.shape[1]\n",
      "xs = 8\n",
      "ys = xs * float(nrow)/float(ncol)\n",
      "\n",
      "fig0, ax0 = plt.subplots(num=0,figsize=[xs,ys])\n",
      "ax0.axis('off')\n",
      "im0 = ax0.imshow(img)\n",
      "fig0.canvas.draw()"
     ],
     "language": "python",
     "metadata": {},
     "outputs": [],
     "prompt_number": 160
    },
    {
     "cell_type": "code",
     "collapsed": false,
     "input": [
      "img = 255 - img"
     ],
     "language": "python",
     "metadata": {},
     "outputs": [],
     "prompt_number": 179
    },
    {
     "cell_type": "code",
     "collapsed": false,
     "input": [
      "nrow = img.shape[0]\n",
      "ncol = img.shape[1]\n",
      "xs = 8\n",
      "ys = xs * float(nrow)/float(ncol)\n",
      "\n",
      "fig0, ax0 = plt.subplots(num=0,figsize=[xs,ys])\n",
      "ax0.axis('off')\n",
      "im0 = ax0.imshow(img)\n",
      "fig0.canvas.draw()"
     ],
     "language": "python",
     "metadata": {},
     "outputs": [],
     "prompt_number": 153
    },
    {
     "cell_type": "code",
     "collapsed": false,
     "input": [
      "#img = nd.imread('images/ml.jpg')\n",
      "img = mf(1.0*img, [8,2,1])"
     ],
     "language": "python",
     "metadata": {},
     "outputs": [],
     "prompt_number": 180
    },
    {
     "cell_type": "code",
     "collapsed": false,
     "input": [
      "nrow = img.shape[0]\n",
      "ncol = img.shape[1]\n",
      "xs = 6.5\n",
      "ys = xs * float(nrow)/float(ncol)\n",
      "\n",
      "fig0, ax0 = plt.subplots(num=0,figsize=[xs,ys])\n",
      "fig0.subplots_adjust(0,0,1,1)\n",
      "ax0.axis('off')\n",
      "im0 = ax0.imshow(img.clip(0,255).astype(np.uint8)) ## what does .clip(0, 255) do? )\n",
      "fig0.canvas.draw()"
     ],
     "language": "python",
     "metadata": {},
     "outputs": [],
     "prompt_number": 176
    },
    {
     "cell_type": "code",
     "collapsed": false,
     "input": [],
     "language": "python",
     "metadata": {},
     "outputs": [],
     "prompt_number": 176
    },
    {
     "cell_type": "code",
     "collapsed": false,
     "input": [
      "nrow = img.shape[0]\n",
      "ncol = img.shape[1]\n",
      "xs = 6.5\n",
      "ys = xs * float(nrow)/float(ncol)\n",
      "\n",
      "fig0, ax0 = plt.subplots(num=0,figsize=[xs,ys])\n",
      "fig0.subplots_adjust(0,0,1,1)\n",
      "ax0.axis('off')\n",
      "fig0.canvas.set_window_title(\"modified mona lisa\")\n",
      "im0 = ax0.imshow(img.clip(0,255).astype(np.uint8)) ## what does .clip(0, 255) do? )\n",
      "fig0.canvas.draw()"
     ],
     "language": "python",
     "metadata": {},
     "outputs": [],
     "prompt_number": 181
    },
    {
     "cell_type": "code",
     "collapsed": false,
     "input": [],
     "language": "python",
     "metadata": {},
     "outputs": []
    }
   ],
   "metadata": {}
  }
 ]
}
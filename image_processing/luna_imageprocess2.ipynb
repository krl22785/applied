{
 "metadata": {
  "name": "",
  "signature": "sha256:2660b67747217b651273f3457a1d17744077b0f4593e069632eecd325d941e12"
 },
 "nbformat": 3,
 "nbformat_minor": 0,
 "worksheets": [
  {
   "cells": [
    {
     "cell_type": "code",
     "collapsed": false,
     "input": [
      "import os\n",
      "import sys\n",
      "import time\n",
      "import numpy as np\n",
      "import scipy.ndimage as nd\n",
      "import matplotlib.pyplot as plt\n",
      "\n",
      "dpath = 'images'\n",
      "fname = 'ml.jpg'\n",
      "infile = os.path.join(dpath,fname)\n",
      "img = nd.imread(infile)"
     ],
     "language": "python",
     "metadata": {},
     "outputs": [],
     "prompt_number": 10
    },
    {
     "cell_type": "code",
     "collapsed": false,
     "input": [
      "nrow = img.shape[0]\n",
      "ncol = img.shape[1]\n",
      "xs = 6.5\n",
      "ys = xs * float(nrow)/float(ncol)\n",
      "\n",
      "fig0, ax0 = plt.subplots(num=0,figsize=[xs,ys])\n",
      "ax0.axis('off')\n",
      "img0 = ax0.imshow(img)\n",
      "fig0.canvas.draw()"
     ],
     "language": "python",
     "metadata": {},
     "outputs": [],
     "prompt_number": 11
    },
    {
     "cell_type": "code",
     "collapsed": false,
     "input": [
      "fig1, ax1 = plt.subplots(3,1,num=1,figsize=[2*xs,xs])\n",
      "\n",
      "[ax1[0].hist(img[:,:,0].flatten(),bins=256,range=[0,255], normed=True, color = 'red')]\n",
      "[ax1[1].hist(img[:,:,1].flatten(),bins=256,range=[0,255], normed=True, color = 'green')]\n",
      "[ax1[2].hist(img[:,:,2].flatten(),bins=256,range=[0,255], normed=True, color = 'blue')]\n",
      "\n",
      "[i.set_yticklabels('') for i in ax1]\n",
      "\n",
      "fig1.subplots_adjust(hspace=.5)\n",
      "ax1[0].set_title('Red')\n",
      "ax1[1].set_title('Green')\n",
      "ax1[2].set_title('Blue')\n",
      "fig1.canvas.draw()"
     ],
     "language": "python",
     "metadata": {},
     "outputs": [],
     "prompt_number": 6
    },
    {
     "cell_type": "markdown",
     "metadata": {},
     "source": [
      "Part 2\n"
     ]
    },
    {
     "cell_type": "code",
     "collapsed": false,
     "input": [],
     "language": "python",
     "metadata": {},
     "outputs": [],
     "prompt_number": 46
    },
    {
     "cell_type": "code",
     "collapsed": false,
     "input": [
      "pts = fig0.ginput(2)\n",
      "x1, y1 = pts[0]\n",
      "x2, y2 = pts[1]"
     ],
     "language": "python",
     "metadata": {},
     "outputs": [],
     "prompt_number": 35
    },
    {
     "cell_type": "code",
     "collapsed": false,
     "input": [
      "x1 = int(round(x1))\n",
      "x2 = int(round(x2))\n",
      "y1 = int(round(y1))\n",
      "y2 = int(round(y2))"
     ],
     "language": "python",
     "metadata": {},
     "outputs": [],
     "prompt_number": 36
    },
    {
     "cell_type": "code",
     "collapsed": false,
     "input": [
      "img2 = img[y1:y2,x1:x2,:]"
     ],
     "language": "python",
     "metadata": {},
     "outputs": [],
     "prompt_number": 39
    },
    {
     "cell_type": "code",
     "collapsed": false,
     "input": [
      "fig2, ax2 = plt.subplots(num=2,figsize=[xs,ys])\n",
      "fig2.subplots_adjust(0,0,1,1)\n",
      "ax2.axis('off')\n",
      "img2 = ax2.imshow(img2)\n",
      "fig2.canvas.draw()\n"
     ],
     "language": "python",
     "metadata": {},
     "outputs": [],
     "prompt_number": 40
    },
    {
     "cell_type": "code",
     "collapsed": false,
     "input": [
      "while True:\n",
      "    \n",
      "    \n",
      "    pts = fig0.ginput(2)\n",
      "    x1, y1 = pts[0]\n",
      "    x2, y2 = pts[1]\n",
      "\n",
      "    \n",
      "    x1 = int(round(x1))\n",
      "    x2 = int(round(x2))\n",
      "    y1 = int(round(y1))\n",
      "    y2 = int(round(y2))\n",
      "    \n",
      "    \n",
      "    if x1 == x2 and y1 == y2: \n",
      "        print pts\n",
      "        [ax1[i].cla() for i in range(3)]\n",
      "#        fig1, ax1 = plt.subplots(3,1,num=1,figsize=[2*xs,xs])\n",
      "        \n",
      "        [ax1[0].hist(img[:,:,0].flatten(),bins=256,range=[0,255], normed=True, color = 'red')]\n",
      "        [ax1[1].hist(img[:,:,1].flatten(),bins=256,range=[0,255], normed=True, color = 'green')]\n",
      "        [ax1[2].hist(img[:,:,2].flatten(),bins=256,range=[0,255], normed=True, color = 'blue')]\n",
      "\n",
      "        [i.set_yticklabels('') for i in ax1]\n",
      "\n",
      "        fig1.subplots_adjust(hspace=.5)\n",
      "        ax1[0].set_title('Red')\n",
      "        ax1[1].set_title('Green')\n",
      "        ax1[2].set_title('Blue')\n",
      "        fig1.canvas.draw()\n",
      "\n",
      "    else:\n",
      "        print pts\n",
      "        img2 = img[x1:x2,y1:y2,:]\n",
      "        [ax1[i].cla() for i in range(3)]\n",
      "\n",
      "        [ax1[0].hist(img2[:,:,0].flatten(),bins=256,range=[0,255], normed=True, color = 'red')]\n",
      "        [ax1[1].hist(img2[:,:,1].flatten(),bins=256,range=[0,255], normed=True, color = 'green')]\n",
      "        [ax1[2].hist(img2[:,:,2].flatten(),bins=256,range=[0,255], normed=True, color = 'blue')]\n",
      "\n",
      "        [i.set_yticklabels('') for i in ax1]\n",
      "\n",
      "        ax1[0].set_title('Red')\n",
      "        ax1[1].set_title('Green')\n",
      "        ax1[2].set_title('Blue')\n",
      "        fig1.subplots_adjust(hspace=.7)\n",
      "        fig1.canvas.draw()"
     ],
     "language": "python",
     "metadata": {},
     "outputs": [
      {
       "output_type": "stream",
       "stream": "stdout",
       "text": [
        "[(84.714126807563872, 197.40989988876549), (235.93214682981082, 380.46329254727493)]\n",
        "[(137.77308120133475, 46.191879866518548), (254.50278086763061, 210.6746384872082)]"
       ]
      },
      {
       "output_type": "stream",
       "stream": "stdout",
       "text": [
        "\n",
        "[(103.28476084538372, 43.538932146829893), (217.36151279199103, 173.53337041156851)]"
       ]
      },
      {
       "output_type": "stream",
       "stream": "stdout",
       "text": [
        "\n",
        "[(357.96774193548379, 48.844827586206975), (464.08565072302554, 162.92157953281435)]"
       ]
      },
      {
       "output_type": "stream",
       "stream": "stdout",
       "text": [
        "\n",
        "[(506.53281423804219, 24.96829810901022), (564.89766407119021, 170.88042269187997)]"
       ]
      },
      {
       "output_type": "stream",
       "stream": "stdout",
       "text": [
        "\n",
        "[(174.91434927697438, 444.13403781979991), (336.74416017797546, 542.29310344827604)]"
       ]
      },
      {
       "output_type": "stream",
       "stream": "stdout",
       "text": [
        "\n",
        "[(498.57397107897657, 327.404338153504), (527.75639599555052, 446.78698553948846)]"
       ]
      },
      {
       "output_type": "stream",
       "stream": "stdout",
       "text": [
        "\n",
        "[(127.16129032258058, 133.7391546162404), (214.70856507230249, 261.08064516129048)]"
       ]
      },
      {
       "output_type": "stream",
       "stream": "stdout",
       "text": [
        "\n",
        "[(52.878754171301381, 54.150723025584057), (105.93770856507226, 93.944938820912284)]"
       ]
      },
      {
       "output_type": "stream",
       "stream": "stdout",
       "text": [
        "\n",
        "[(39.614015572858676, 51.49777530589563), (127.16129032258058, 152.30978865406018)]"
       ]
      },
      {
       "output_type": "stream",
       "stream": "stdout",
       "text": [
        "\n",
        "[(230.62625139043374, 38.233036707452811), (360.62068965517233, 91.291991101223743)]"
       ]
      },
      {
       "output_type": "stream",
       "stream": "stdout",
       "text": [
        "\n",
        "[(84.714126807563872, 223.9393770856509), (166.9555061179087, 298.22191323693005)]"
       ]
      },
      {
       "output_type": "stream",
       "stream": "stdout",
       "text": [
        "\n",
        "[(76.755283648498249, 99.250834260289366), (76.755283648498249, 99.250834260289366)]"
       ]
      },
      {
       "output_type": "stream",
       "stream": "stdout",
       "text": [
        "\n"
       ]
      },
      {
       "ename": "IndexError",
       "evalue": "list index out of range",
       "output_type": "pyerr",
       "traceback": [
        "\u001b[0;31m---------------------------------------------------------------------------\u001b[0m\n\u001b[0;31mIndexError\u001b[0m                                Traceback (most recent call last)",
        "\u001b[0;32m<ipython-input-24-7499492e0fa1>\u001b[0m in \u001b[0;36m<module>\u001b[0;34m()\u001b[0m\n\u001b[1;32m      3\u001b[0m \u001b[0;34m\u001b[0m\u001b[0m\n\u001b[1;32m      4\u001b[0m     \u001b[0mpts\u001b[0m \u001b[0;34m=\u001b[0m \u001b[0mfig0\u001b[0m\u001b[0;34m.\u001b[0m\u001b[0mginput\u001b[0m\u001b[0;34m(\u001b[0m\u001b[0;36m2\u001b[0m\u001b[0;34m)\u001b[0m\u001b[0;34m\u001b[0m\u001b[0m\n\u001b[0;32m----> 5\u001b[0;31m     \u001b[0mx1\u001b[0m\u001b[0;34m,\u001b[0m \u001b[0my1\u001b[0m \u001b[0;34m=\u001b[0m \u001b[0mpts\u001b[0m\u001b[0;34m[\u001b[0m\u001b[0;36m0\u001b[0m\u001b[0;34m]\u001b[0m\u001b[0;34m\u001b[0m\u001b[0m\n\u001b[0m\u001b[1;32m      6\u001b[0m     \u001b[0mx2\u001b[0m\u001b[0;34m,\u001b[0m \u001b[0my2\u001b[0m \u001b[0;34m=\u001b[0m \u001b[0mpts\u001b[0m\u001b[0;34m[\u001b[0m\u001b[0;36m1\u001b[0m\u001b[0;34m]\u001b[0m\u001b[0;34m\u001b[0m\u001b[0m\n\u001b[1;32m      7\u001b[0m \u001b[0;34m\u001b[0m\u001b[0m\n",
        "\u001b[0;31mIndexError\u001b[0m: list index out of range"
       ]
      }
     ],
     "prompt_number": 24
    },
    {
     "cell_type": "heading",
     "level": 1,
     "metadata": {},
     "source": [
      "Part 2"
     ]
    },
    {
     "cell_type": "code",
     "collapsed": false,
     "input": [
      "import os\n",
      "import sys\n",
      "import time\n",
      "import numpy as np\n",
      "import scipy.ndimage as nd\n",
      "import matplotlib.pyplot as plt\n",
      "\n",
      "dpath = 'images'\n",
      "fname = 'ml.jpg'\n",
      "infile = os.path.join(dpath,fname)\n",
      "img = nd.imread(infile)"
     ],
     "language": "python",
     "metadata": {},
     "outputs": [],
     "prompt_number": 1
    },
    {
     "cell_type": "code",
     "collapsed": false,
     "input": [
      "fig1, ax1 = plt.subplots(3,1,num=1,figsize=[2*xs,xs])\n",
      "\n",
      "[ax1[0].hist(img[:,:,0].flatten(),bins=256,range=[0,255], normed=True, color = 'red')]\n",
      "[ax1[1].hist(img[:,:,1].flatten(),bins=256,range=[0,255], normed=True, color = 'green')]\n",
      "[ax1[2].hist(img[:,:,2].flatten(),bins=256,range=[0,255], normed=True, color = 'blue')]\n",
      "\n",
      "[i.set_yticklabels('') for i in ax1]\n",
      "\n",
      "fig1.subplots_adjust(hspace=.5)\n",
      "ax1[0].set_title('Red')\n",
      "ax1[1].set_title('Green')\n",
      "ax1[2].set_title('Blue')\n",
      "fig1.canvas.draw()"
     ],
     "language": "python",
     "metadata": {},
     "outputs": [],
     "prompt_number": 14
    },
    {
     "cell_type": "code",
     "collapsed": false,
     "input": [
      "# pts = fig1.ginput(3)\n",
      "# print pts"
     ],
     "language": "python",
     "metadata": {},
     "outputs": [
      {
       "output_type": "stream",
       "stream": "stdout",
       "text": [
        "[(80.011520737327174, 0.0036492445896284184), (143.5195852534562, 0.0038101265822784794), (28.600230414746534, 0.0042874642711310737)]\n"
       ]
      }
     ],
     "prompt_number": 4
    },
    {
     "cell_type": "code",
     "collapsed": false,
     "input": [
      "x1 = int(round(pts[0][0]))\n",
      "x2 = int(round(pts[1][0]))\n",
      "x3 = int(round(pts[2][0]))\n"
     ],
     "language": "python",
     "metadata": {},
     "outputs": [],
     "prompt_number": 11
    },
    {
     "cell_type": "code",
     "collapsed": false,
     "input": [
      "rng = ax1.axvspan(img[:,:,0].flatten()[x1-5], img[:,:,0].flatten()[x1+5], facecolor = 'lime', alpha = .1)"
     ],
     "language": "python",
     "metadata": {},
     "outputs": []
    },
    {
     "cell_type": "code",
     "collapsed": false,
     "input": [
      "count = 0\n",
      "while True:\n",
      "    pts = fig1.ginput(3)\n",
      "    x1 = int(round(pts[0][0]))\n",
      "    x2 = int(round(pts[1][0]))\n",
      "    x3 = int(round(pts[2][0]))\n",
      "    \n",
      "    if count == 0:\n",
      "        \n",
      "        rng1 = ax1[0].axvspan(x1+5, x1-5, facecolor = 'orange', alpha = .2)\n",
      "        rng2 = ax1[1].axvspan(x2+5, x2-5, facecolor = 'orange', alpha = .2)\n",
      "        rng3 = ax1[2].axvspan(x3+5, x3-5, facecolor = 'orange', alpha = .2)\n",
      "\n",
      "    else:\n",
      "        \n",
      "        spn1 = rng1.get_xy()\n",
      "        spn1[:,0] = [x1-5,x1-5,x1+5,x1+5,x1-5]\n",
      "        rng1.set_xy(spn1)\n",
      "        \n",
      "        spn2 = rng1.get_xy()\n",
      "        spn2[:,0] = [x2-5,x2-5,x2+5,x2+5,x2-5]\n",
      "        rng2.set_xy(spn2)\n",
      "        \n",
      "        spn3 = rng3.get_xy()\n",
      "        spn3[:,0] = [x3-5,x3-5,x3+5,x3+5,x3-5]\n",
      "        rng3.set_xy(spn3)\n",
      "    fig1.canvas.draw()\n",
      "    count += 1\n",
      "    \n",
      "    img2 = img.copy()\n",
      "    cc = [x1, x2, x3]\n",
      "    \n",
      "    for i in range(3):\n",
      "        img2[:,:,i][(img2[:,:,i] > (cc[i] + 5)) | (img2[:,:,i] < (cc[i] - 5))] = img2[:,:,i][(img2[:,:,i] > (cc[i] + 5)) | (img2[:,:,i] < (cc[i] - 5))] * .25\n",
      "        \n",
      "    img0.set_data(img2.clip(0,255).astype(np.uint8))\n",
      "    fig0.canvas.draw()\n",
      "\n",
      "    \n",
      "    "
     ],
     "language": "python",
     "metadata": {},
     "outputs": [
      {
       "ename": "IndexError",
       "evalue": "list index out of range",
       "output_type": "pyerr",
       "traceback": [
        "\u001b[0;31m---------------------------------------------------------------------------\u001b[0m\n\u001b[0;31mIndexError\u001b[0m                                Traceback (most recent call last)",
        "\u001b[0;32m<ipython-input-15-78a664e99072>\u001b[0m in \u001b[0;36m<module>\u001b[0;34m()\u001b[0m\n\u001b[1;32m      2\u001b[0m \u001b[0;32mwhile\u001b[0m \u001b[0mTrue\u001b[0m\u001b[0;34m:\u001b[0m\u001b[0;34m\u001b[0m\u001b[0m\n\u001b[1;32m      3\u001b[0m     \u001b[0mpts\u001b[0m \u001b[0;34m=\u001b[0m \u001b[0mfig1\u001b[0m\u001b[0;34m.\u001b[0m\u001b[0mginput\u001b[0m\u001b[0;34m(\u001b[0m\u001b[0;36m3\u001b[0m\u001b[0;34m)\u001b[0m\u001b[0;34m\u001b[0m\u001b[0m\n\u001b[0;32m----> 4\u001b[0;31m     \u001b[0mx1\u001b[0m \u001b[0;34m=\u001b[0m \u001b[0mint\u001b[0m\u001b[0;34m(\u001b[0m\u001b[0mround\u001b[0m\u001b[0;34m(\u001b[0m\u001b[0mpts\u001b[0m\u001b[0;34m[\u001b[0m\u001b[0;36m0\u001b[0m\u001b[0;34m]\u001b[0m\u001b[0;34m[\u001b[0m\u001b[0;36m0\u001b[0m\u001b[0;34m]\u001b[0m\u001b[0;34m)\u001b[0m\u001b[0;34m)\u001b[0m\u001b[0;34m\u001b[0m\u001b[0m\n\u001b[0m\u001b[1;32m      5\u001b[0m     \u001b[0mx2\u001b[0m \u001b[0;34m=\u001b[0m \u001b[0mint\u001b[0m\u001b[0;34m(\u001b[0m\u001b[0mround\u001b[0m\u001b[0;34m(\u001b[0m\u001b[0mpts\u001b[0m\u001b[0;34m[\u001b[0m\u001b[0;36m1\u001b[0m\u001b[0;34m]\u001b[0m\u001b[0;34m[\u001b[0m\u001b[0;36m0\u001b[0m\u001b[0;34m]\u001b[0m\u001b[0;34m)\u001b[0m\u001b[0;34m)\u001b[0m\u001b[0;34m\u001b[0m\u001b[0m\n\u001b[1;32m      6\u001b[0m     \u001b[0mx3\u001b[0m \u001b[0;34m=\u001b[0m \u001b[0mint\u001b[0m\u001b[0;34m(\u001b[0m\u001b[0mround\u001b[0m\u001b[0;34m(\u001b[0m\u001b[0mpts\u001b[0m\u001b[0;34m[\u001b[0m\u001b[0;36m2\u001b[0m\u001b[0;34m]\u001b[0m\u001b[0;34m[\u001b[0m\u001b[0;36m0\u001b[0m\u001b[0;34m]\u001b[0m\u001b[0;34m)\u001b[0m\u001b[0;34m)\u001b[0m\u001b[0;34m\u001b[0m\u001b[0m\n",
        "\u001b[0;31mIndexError\u001b[0m: list index out of range"
       ]
      }
     ],
     "prompt_number": 15
    },
    {
     "cell_type": "code",
     "collapsed": false,
     "input": [],
     "language": "python",
     "metadata": {},
     "outputs": [],
     "prompt_number": 15
    },
    {
     "cell_type": "code",
     "collapsed": false,
     "input": [],
     "language": "python",
     "metadata": {},
     "outputs": []
    }
   ],
   "metadata": {}
  }
 ]
}
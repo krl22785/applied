{
 "metadata": {
  "name": "",
  "signature": "sha256:61067be85db3edd75d7cc6e06324ea9bca29fbb91270090fdf3b79a68c8e3310"
 },
 "nbformat": 3,
 "nbformat_minor": 0,
 "worksheets": [
  {
   "cells": [
    {
     "cell_type": "code",
     "collapsed": false,
     "input": [
      "import os\n",
      "import sys\n",
      "import time\n",
      "import numpy as np\n",
      "import scipy.ndimage as nd\n",
      "import matplotlib.pyplot as plt\n",
      "import operator"
     ],
     "language": "python",
     "metadata": {},
     "outputs": [],
     "prompt_number": 92
    },
    {
     "cell_type": "code",
     "collapsed": false,
     "input": [
      "img = nd.imread('images/digits.png')\n",
      "nrow, ncol = img.shape[0:2]\n",
      "xs = 10.\n",
      "ys = xs*float(nrow)/float(ncol)\n",
      "\n",
      "plt.close(0)\n",
      "fig11, ax11 = plt.subplots(num=0,figsize=[xs,ys])\n",
      "fig11.subplots_adjust(0,0,1,1)\n",
      "ax11.axis('off')\n",
      "im11 = ax11.imshow(img)\n",
      "fig11.canvas.draw()"
     ],
     "language": "python",
     "metadata": {},
     "outputs": [],
     "prompt_number": 94
    },
    {
     "cell_type": "code",
     "collapsed": false,
     "input": [
      "nums = img.reshape(50,20,100,20).transpose(0,2,1,3).reshape(5000,20,20)"
     ],
     "language": "python",
     "metadata": {},
     "outputs": [],
     "prompt_number": 87
    },
    {
     "cell_type": "code",
     "collapsed": false,
     "input": [
      "plt.close(1)\n",
      "fig12, ax12 = plt.subplots(num=1,figsize=[xs/1.5,xs/1.5])\n",
      "fig12.subplots_adjust(0,0,1,1)\n",
      "ax12.axis('off')\n",
      "im12 = ax12.imshow(nums[0])\n",
      "fig12.canvas.draw()"
     ],
     "language": "python",
     "metadata": {},
     "outputs": [],
     "prompt_number": 88
    },
    {
     "cell_type": "code",
     "collapsed": false,
     "input": [
      "nums_avg = np.array([nums[i*500:(i+1)*500].mean(0) for i in range(10)])\n",
      "\n",
      "for ii in range(10):\n",
      "    im12.set_data(nums_avg[ii])\n",
      "    fig12.canvas.draw()\n",
      "    time.sleep(3.0)"
     ],
     "language": "python",
     "metadata": {},
     "outputs": [],
     "prompt_number": 89
    },
    {
     "cell_type": "code",
     "collapsed": false,
     "input": [
      "\n"
     ],
     "language": "python",
     "metadata": {},
     "outputs": [],
     "prompt_number": 202
    },
    {
     "cell_type": "code",
     "collapsed": false,
     "input": [
      "failureIndex = {}\n",
      "fail = []\n",
      "for ii in range(10):\n",
      "    \n",
      "    incorrect = 0\n",
      "    errorDict = {}\n",
      "    \n",
      "    l = []\n",
      "    \n",
      "    for i in xrange(500):     \n",
      "        index = ii * 500 + i\n",
      "        samp = nums[index]\n",
      "        \n",
      "        PT = nums_avg.reshape(10,400)\n",
      "        P  = PT.transpose()\n",
      "        PTPinv = np.linalg.inv(np.dot(PT,P))\n",
      "        PTyy = np.dot(PT,samp.flatten())\n",
      "        avec = np.dot(PTPinv,PTyy)\n",
      "        l.append(avec)\n",
      "        \n",
      "        if np.argmax(avec) != ii:\n",
      "            failureIndex[index] = np.argmax(avec)\n",
      "            fail.append(index)\n",
      "            #fail[index] = np.argmax(avec)\n",
      "            incorrect += 1        \n",
      "            if np.argmax(avec) in errorDict:\n",
      "                errorDict[np.argmax(avec)] += 1\n",
      "            else:\n",
      "                errorDict[np.argmax(avec)] = 1\n",
      "        else:\n",
      "            pass\n",
      "    \n",
      "    xs = 6\n",
      "    ys = 8\n",
      "    fig0, ax0 = plt.subplots(10,1,figsize=[xs,ys], sharex=True)\n",
      "    \n",
      "    sorted_x = sorted(errorDict.items(), key=operator.itemgetter(1), reverse = True)    \n",
      "    v = np.vstack(l)\n",
      "    add = v.T\n",
      "    \n",
      "\n",
      "    for j in range(0,10):\n",
      "        [ax0[j].hist(add[j], bins = 100, color='cyan')]\n",
      "        [i.set_yticklabels('') for i in ax0]\n",
      "        [ax0[j].set_title(\"Known %s's Against %s's\"% (ii,str(j)), fontsize=10)]\n",
      "     \n",
      "    fig0.subplots_adjust(hspace=2)\n",
      "    fig0.subplots_adjust(.1,.1,.95,.95)\n",
      "    fig0.canvas.draw()\n",
      "    \n",
      "    print \"%s%% of %s's were incorrectly identified, the most common guess for those failures was %s's\" % \\\n",
      "    ((incorrect/500.0) * 100, ii, sorted_x[0][0])\n"
     ],
     "language": "python",
     "metadata": {},
     "outputs": [
      {
       "output_type": "stream",
       "stream": "stdout",
       "text": [
        "28.6% of 0's were incorrectly identified, the most common guess for those failures was 5's\n",
        "6.4% of 1's were incorrectly identified, the most common guess for those failures was 5's"
       ]
      },
      {
       "output_type": "stream",
       "stream": "stdout",
       "text": [
        "\n",
        "34.6% of 2's were incorrectly identified, the most common guess for those failures was 3's"
       ]
      },
      {
       "output_type": "stream",
       "stream": "stdout",
       "text": [
        "\n",
        "26.8% of 3's were incorrectly identified, the most common guess for those failures was 9's"
       ]
      },
      {
       "output_type": "stream",
       "stream": "stdout",
       "text": [
        "\n",
        "23.8% of 4's were incorrectly identified, the most common guess for those failures was 9's"
       ]
      },
      {
       "output_type": "stream",
       "stream": "stdout",
       "text": [
        "\n",
        "38.4% of 5's were incorrectly identified, the most common guess for those failures was 3's"
       ]
      },
      {
       "output_type": "stream",
       "stream": "stdout",
       "text": [
        "\n",
        "18.6% of 6's were incorrectly identified, the most common guess for those failures was 5's"
       ]
      },
      {
       "output_type": "stream",
       "stream": "stdout",
       "text": [
        "\n",
        "24.8% of 7's were incorrectly identified, the most common guess for those failures was 9's"
       ]
      },
      {
       "output_type": "stream",
       "stream": "stdout",
       "text": [
        "\n",
        "29.8% of 8's were incorrectly identified, the most common guess for those failures was 3's"
       ]
      },
      {
       "output_type": "stream",
       "stream": "stdout",
       "text": [
        "\n",
        "19.6% of 9's were incorrectly identified, the most common guess for those failures was 4's"
       ]
      },
      {
       "output_type": "stream",
       "stream": "stdout",
       "text": [
        "\n"
       ]
      }
     ],
     "prompt_number": 90
    },
    {
     "cell_type": "code",
     "collapsed": false,
     "input": [
      "t0 = time.time()\n",
      "dt = 0.0\n",
      "while dt<30.:\n",
      "    i = int(floor(len(fail)*np.random.rand()))\n",
      "    ii = fail[i]\n",
      "    \n",
      "    lab.remove()\n",
      "    \n",
      "    im12.set_data(nums[ii])\n",
      "    lab = ax12.text(0,0, 'Guess:  ', va = 'top', fontsize = 20, color = 'w')\n",
      "    lab.set_text('Guess: {0}'.format(failureIndex[ii]))\n",
      "\n",
      "    fig12.canvas.draw()\n",
      "    time.sleep(1.0)\n",
      "    dt = time.time()-t0"
     ],
     "language": "python",
     "metadata": {},
     "outputs": [],
     "prompt_number": 77
    },
    {
     "cell_type": "code",
     "collapsed": false,
     "input": [
      "# for ii in range(10):\n",
      "#     im12.set_data(nums_avg[ii])\n",
      "#     fig12.canvas.draw()\n",
      "#     time.sleep(3.0)"
     ],
     "language": "python",
     "metadata": {},
     "outputs": [],
     "prompt_number": 74
    },
    {
     "cell_type": "code",
     "collapsed": false,
     "input": [],
     "language": "python",
     "metadata": {},
     "outputs": [],
     "prompt_number": 81
    },
    {
     "cell_type": "code",
     "collapsed": false,
     "input": [],
     "language": "python",
     "metadata": {},
     "outputs": [],
     "prompt_number": 81
    },
    {
     "cell_type": "code",
     "collapsed": false,
     "input": [],
     "language": "python",
     "metadata": {},
     "outputs": []
    },
    {
     "cell_type": "code",
     "collapsed": false,
     "input": [],
     "language": "python",
     "metadata": {},
     "outputs": [],
     "prompt_number": 81
    },
    {
     "cell_type": "code",
     "collapsed": false,
     "input": [
      ")"
     ],
     "language": "python",
     "metadata": {},
     "outputs": [
      {
       "metadata": {},
       "output_type": "pyout",
       "prompt_number": 26,
       "text": [
        "1257"
       ]
      }
     ],
     "prompt_number": 26
    },
    {
     "cell_type": "code",
     "collapsed": false,
     "input": [
      "len(failureIndex)"
     ],
     "language": "python",
     "metadata": {},
     "outputs": [
      {
       "metadata": {},
       "output_type": "pyout",
       "prompt_number": 27,
       "text": [
        "1257"
       ]
      }
     ],
     "prompt_number": 27
    },
    {
     "cell_type": "code",
     "collapsed": false,
     "input": [
      "fail[1223]"
     ],
     "language": "python",
     "metadata": {},
     "outputs": [
      {
       "metadata": {},
       "output_type": "pyout",
       "prompt_number": 28,
       "text": [
        "4810"
       ]
      }
     ],
     "prompt_number": 28
    },
    {
     "cell_type": "code",
     "collapsed": false,
     "input": [
      "len(np.ones(len(fail)))"
     ],
     "language": "python",
     "metadata": {},
     "outputs": [
      {
       "metadata": {},
       "output_type": "pyout",
       "prompt_number": 80,
       "text": [
        "1257"
       ]
      }
     ],
     "prompt_number": 80
    },
    {
     "cell_type": "code",
     "collapsed": false,
     "input": [
      "PT"
     ],
     "language": "python",
     "metadata": {},
     "outputs": [
      {
       "metadata": {},
       "output_type": "pyout",
       "prompt_number": 81,
       "text": [
        "array([[ 0.   ,  0.   ,  0.   , ...,  0.   ,  0.   ,  0.   ],\n",
        "       [ 0.   ,  0.   ,  0.   , ...,  0.   ,  0.   ,  0.   ],\n",
        "       [ 0.   ,  0.   ,  0.   , ...,  0.   ,  0.   ,  0.   ],\n",
        "       ..., \n",
        "       [ 0.   ,  0.   ,  0.   , ...,  0.002,  0.   ,  0.   ],\n",
        "       [ 0.   ,  0.   ,  0.   , ...,  0.002,  0.   ,  0.   ],\n",
        "       [ 0.   ,  0.   ,  0.   , ...,  0.006,  0.   ,  0.   ]])"
       ]
      }
     ],
     "prompt_number": 81
    },
    {
     "cell_type": "code",
     "collapsed": false,
     "input": [
      "print \"Removing zero point offset:\\n\"\n",
      "failureIndex = {}\n",
      "fail = []\n",
      "for ii in range(10):\n",
      "    \n",
      "    incorrect = 0\n",
      "    errorDict = {}\n",
      "    \n",
      "    l = []\n",
      "    \n",
      "    for i in xrange(500):     \n",
      "        index = ii * 500 + i\n",
      "        samp = nums[index]\n",
      "        \n",
      "        PT1 = nums_avg.reshape(10,400)\n",
      "        PT = np.vstack((PT1, np.ones(400)))\n",
      "        P  = PT.transpose()\n",
      "        PTPinv = np.linalg.inv(np.dot(PT,P))\n",
      "        PTyy = np.dot(PT,samp.flatten())\n",
      "        \n",
      "        #Take only first 10 elements\n",
      "        avec = np.dot(PTPinv,PTyy)\n",
      "        avec = avec[0:10]\n",
      "        l.append(avec[0:10])\n",
      "        \n",
      "        if np.argmax(avec) != ii:\n",
      "            failureIndex[index] = np.argmax(avec)\n",
      "            fail.append(index)\n",
      "            #fail[index] = np.argmax(avec)\n",
      "            incorrect += 1        \n",
      "            if np.argmax(avec) in errorDict:\n",
      "                errorDict[np.argmax(avec)] += 1\n",
      "            else:\n",
      "                errorDict[np.argmax(avec)] = 1\n",
      "        else:\n",
      "            pass\n",
      "    \n",
      "    xs = 6\n",
      "    ys = 8\n",
      "    fig0, ax0 = plt.subplots(10,1,figsize=[xs,ys], sharex=True)\n",
      "    \n",
      "    sorted_x = sorted(errorDict.items(), key=operator.itemgetter(1), reverse = True)    \n",
      "    v = np.vstack(l)\n",
      "    add = v.T\n",
      "    \n",
      "\n",
      "    \n",
      "    for j in range(0,10):\n",
      "        [ax0[j].hist(add[j], bins = 100, color='cyan')]\n",
      "        [i.set_yticklabels('') for i in ax0]\n",
      "        [ax0[j].set_title(\"Known %s's Against %s's\"% (ii,str(j)), fontsize=10)]\n",
      "     \n",
      "    fig0.subplots_adjust(hspace=2)\n",
      "    fig0.subplots_adjust(.1,.1,.95,.95)\n",
      "    fig0.canvas.draw()\n",
      "    \n",
      "    print \"%s%% of %s's were incorrectly identified, the most common guess for those failures was %s's\" % \\\n",
      "    ((incorrect/500.0) * 100, ii, sorted_x[0][0])"
     ],
     "language": "python",
     "metadata": {},
     "outputs": [
      {
       "output_type": "stream",
       "stream": "stdout",
       "text": [
        "Removing zero point offset:\n",
        "\n",
        "28.0% of 0's were incorrectly identified, the most common guess for those failures was 5's"
       ]
      },
      {
       "output_type": "stream",
       "stream": "stdout",
       "text": [
        "\n",
        "6.2% of 1's were incorrectly identified, the most common guess for those failures was 5's"
       ]
      },
      {
       "output_type": "stream",
       "stream": "stdout",
       "text": [
        "\n",
        "34.8% of 2's were incorrectly identified, the most common guess for those failures was 3's"
       ]
      },
      {
       "output_type": "stream",
       "stream": "stdout",
       "text": [
        "\n",
        "27.4% of 3's were incorrectly identified, the most common guess for those failures was 9's"
       ]
      },
      {
       "output_type": "stream",
       "stream": "stdout",
       "text": [
        "\n",
        "23.8% of 4's were incorrectly identified, the most common guess for those failures was 9's"
       ]
      },
      {
       "output_type": "stream",
       "stream": "stdout",
       "text": [
        "\n",
        "38.6% of 5's were incorrectly identified, the most common guess for those failures was 3's"
       ]
      },
      {
       "output_type": "stream",
       "stream": "stdout",
       "text": [
        "\n",
        "18.6% of 6's were incorrectly identified, the most common guess for those failures was 5's"
       ]
      },
      {
       "output_type": "stream",
       "stream": "stdout",
       "text": [
        "\n",
        "24.4% of 7's were incorrectly identified, the most common guess for those failures was 9's"
       ]
      },
      {
       "output_type": "stream",
       "stream": "stdout",
       "text": [
        "\n",
        "29.6% of 8's were incorrectly identified, the most common guess for those failures was 3's"
       ]
      },
      {
       "output_type": "stream",
       "stream": "stdout",
       "text": [
        "\n",
        "19.4% of 9's were incorrectly identified, the most common guess for those failures was 4's"
       ]
      },
      {
       "output_type": "stream",
       "stream": "stdout",
       "text": [
        "\n"
       ]
      }
     ],
     "prompt_number": 91
    },
    {
     "cell_type": "code",
     "collapsed": false,
     "input": [],
     "language": "python",
     "metadata": {},
     "outputs": []
    }
   ],
   "metadata": {}
  }
 ]
}
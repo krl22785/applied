{
 "metadata": {
  "name": "",
  "signature": "sha256:f88b83c0f98e0242310e9d985735ce0fe9465280b806916f8eb9e44ca45decf8"
 },
 "nbformat": 3,
 "nbformat_minor": 0,
 "worksheets": [
  {
   "cells": [
    {
     "cell_type": "heading",
     "level": 1,
     "metadata": {},
     "source": [
      "Problem 1(A) XOR"
     ]
    },
    {
     "cell_type": "code",
     "collapsed": false,
     "input": [
      "import pybrain\n",
      "from pybrain.datasets import *\n",
      "from pybrain.tools.shortcuts import buildNetwork\n",
      "from pybrain.supervised.trainers import BackpropTrainer\n",
      "import pickle\n",
      "\n",
      "#XOR \n",
      "if __name__ == \"__main__\":\n",
      "    ds = SupervisedDataSet(2, 1) # change the  number of inputs \n",
      "    \n",
      "    ds.addSample( (0,0) , (0,))\n",
      "    ds.addSample( (0,1) , (1,))\n",
      "    ds.addSample( (1,0) , (1,))\n",
      "    ds.addSample( (1,1) , (0,)) \n",
      "        \n",
      "\n",
      "    net = buildNetwork(2, 4, 1, bias=True) #\n",
      "\n",
      "    trainer = BackpropTrainer(net, learningrate = 0.01, momentum = 0.99)\n",
      "    trainer.trainOnDataset(ds, 1000)\n",
      "    trainer.testOnData()\n",
      "    \n",
      "    print net.activate((0,0))\n",
      "    print net.activate((0,1))\n",
      "    print net.activate((1,0))\n",
      "    print net.activate((1,1))"
     ],
     "language": "python",
     "metadata": {},
     "outputs": [
      {
       "output_type": "stream",
       "stream": "stdout",
       "text": [
        "[  3.05293124e-09]\n",
        "[ 1.]\n",
        "[ 1.]\n",
        "[  5.45573253e-10]\n"
       ]
      }
     ],
     "prompt_number": 5
    },
    {
     "cell_type": "heading",
     "level": 1,
     "metadata": {},
     "source": [
      "Problem 1(A) AND"
     ]
    },
    {
     "cell_type": "code",
     "collapsed": false,
     "input": [
      "#AND \n",
      "if __name__ == \"__main__\":\n",
      "    ds = SupervisedDataSet(2, 1)\n",
      "    ds.addSample( (0,0) , (0,))\n",
      "    ds.addSample( (0,1) , (0,))\n",
      "    ds.addSample( (1,0) , (0,))\n",
      "    ds.addSample( (1,1) , (1,))\n",
      "\n",
      "    net = buildNetwork(2, 4, 1, bias=True)\n",
      "\n",
      "    trainer = BackpropTrainer(net, learningrate = 0.01, momentum = 0.99)\n",
      "    trainer.trainOnDataset(ds, 1000)\n",
      "    trainer.testOnData()\n",
      "    \n",
      "    print net.activate((0,0))\n",
      "    print net.activate((0,1))\n",
      "    print net.activate((1,0))\n",
      "    print net.activate((1,1))"
     ],
     "language": "python",
     "metadata": {},
     "outputs": [
      {
       "output_type": "stream",
       "stream": "stdout",
       "text": [
        "[  5.31693611e-09]\n",
        "[ -1.54964244e-08]\n",
        "[ -2.08532250e-08]\n",
        "[ 1.]\n"
       ]
      }
     ],
     "prompt_number": 13
    },
    {
     "cell_type": "heading",
     "level": 1,
     "metadata": {},
     "source": [
      "Problem 1(A) NOT"
     ]
    },
    {
     "cell_type": "code",
     "collapsed": false,
     "input": [
      "#NOT  \n",
      "if __name__ == \"__main__\":\n",
      "    ds = SupervisedDataSet(1, 1)\n",
      "    ds.addSample( (0) , (1,))\n",
      "    ds.addSample( (1) , (0,))\n",
      "\n",
      "    net = buildNetwork(1, 4, 1, bias=True)\n",
      "\n",
      "    trainer = BackpropTrainer(net, learningrate = 0.01, momentum = 0.99)\n",
      "    trainer.trainOnDataset(ds, 1000)\n",
      "    trainer.testOnData()\n",
      "    \n",
      "    print net.activate([1])\n",
      "    print net.activate([0])"
     ],
     "language": "python",
     "metadata": {},
     "outputs": [
      {
       "output_type": "stream",
       "stream": "stdout",
       "text": [
        "[  5.21241759e-05]\n",
        "[ 1.00004829]\n"
       ]
      }
     ],
     "prompt_number": 10
    },
    {
     "cell_type": "heading",
     "level": 1,
     "metadata": {},
     "source": [
      "Problem 1(A) NOR"
     ]
    },
    {
     "cell_type": "code",
     "collapsed": false,
     "input": [
      "#NOR\n",
      "if __name__ == \"__main__\":\n",
      "    ds = SupervisedDataSet(2, 1)\n",
      "    ds.addSample( (0,0) , (1,))\n",
      "    ds.addSample( (0,1) , (0,))\n",
      "    ds.addSample( (1,0) , (0,))\n",
      "    ds.addSample( (1,1) , (0,))\n",
      "\n",
      "    net = buildNetwork(2, 4, 1, bias=True)\n",
      "\n",
      "    trainer = BackpropTrainer(net, learningrate = 0.01, momentum = 0.99)\n",
      "    trainer.trainOnDataset(ds, 1000)\n",
      "    trainer.testOnData()\n",
      "    \n",
      "    print net.activate((0,0))\n",
      "    print net.activate((0,1))\n",
      "    print net.activate((1,0))\n",
      "    print net.activate((1,1))"
     ],
     "language": "python",
     "metadata": {},
     "outputs": [
      {
       "output_type": "stream",
       "stream": "stdout",
       "text": [
        "[ 1.00249882]\n",
        "[ 0.0156671]\n",
        "[ 0.01745805]\n",
        "[-0.02259088]\n"
       ]
      }
     ],
     "prompt_number": 22
    },
    {
     "cell_type": "heading",
     "level": 1,
     "metadata": {},
     "source": [
      "Problem 1(B).1"
     ]
    },
    {
     "cell_type": "code",
     "collapsed": false,
     "input": [
      "import pybrain\n",
      "from pybrain.datasets import *\n",
      "from pybrain.tools.shortcuts import buildNetwork\n",
      "from pybrain.supervised.trainers import BackpropTrainer\n",
      "import pickle\n",
      "\n",
      "#XOR \n",
      "if __name__ == \"__main__\":\n",
      "    ds = SupervisedDataSet(2, 1) # change the  number of inputs \n",
      "    \n",
      "    ds.addSample( (0,0) , (0,))\n",
      "    ds.addSample( (0,1) , (1,))\n",
      "    ds.addSample( (1,0) , (1,))\n",
      "    ds.addSample( (1,1) , (0,)) \n",
      "        \n",
      "\n",
      "    net = buildNetwork(2, 4, 4, 1, bias=True) #\n",
      "\n",
      "    trainer = BackpropTrainer(net, learningrate = 0.01, momentum = 0.99)\n",
      "    trainer.trainOnDataset(ds, 1000)\n",
      "    trainer.testOnData()\n",
      "    \n",
      "    print net.activate((0,0))\n",
      "    print net.activate((0,1))\n",
      "    print net.activate((1,0))\n",
      "    print net.activate((1,1))"
     ],
     "language": "python",
     "metadata": {},
     "outputs": [
      {
       "output_type": "stream",
       "stream": "stdout",
       "text": [
        "[ 0.29016954]\n",
        "[ 0.96673759]\n",
        "[ 0.31287872]\n",
        "[ 0.32725713]\n"
       ]
      }
     ],
     "prompt_number": 9
    },
    {
     "cell_type": "code",
     "collapsed": false,
     "input": [
      "import pybrain\n",
      "from pybrain.datasets import *\n",
      "from pybrain.tools.shortcuts import buildNetwork\n",
      "from pybrain.supervised.trainers import BackpropTrainer\n",
      "import pickle\n",
      "\n",
      "#XOR \n",
      "if __name__ == \"__main__\":\n",
      "    ds = SupervisedDataSet(2, 1) # change the  number of inputs \n",
      "    \n",
      "    ds.addSample( (0,0) , (0,))\n",
      "    ds.addSample( (0,1) , (1,))\n",
      "    ds.addSample( (1,0) , (1,))\n",
      "    ds.addSample( (1,1) , (0,)) \n",
      "        \n",
      "\n",
      "    net = buildNetwork(2, 4, 2, 1, bias=True) #\n",
      "\n",
      "    trainer = BackpropTrainer(net, learningrate = 0.01, momentum = 0.99)\n",
      "    trainer.trainOnDataset(ds, 1000)\n",
      "    trainer.testOnData()\n",
      "    \n",
      "    print net.activate((0,0))\n",
      "    print net.activate((0,1))\n",
      "    print net.activate((1,0))\n",
      "    print net.activate((1,1))"
     ],
     "language": "python",
     "metadata": {},
     "outputs": [
      {
       "output_type": "stream",
       "stream": "stdout",
       "text": [
        "[  7.12068484e-08]\n",
        "[ 0.9999999]\n",
        "[ 1.00000002]\n",
        "[  6.70490676e-08]\n"
       ]
      }
     ],
     "prompt_number": 10
    },
    {
     "cell_type": "heading",
     "level": 1,
     "metadata": {},
     "source": [
      "Problem 1(B).2"
     ]
    },
    {
     "cell_type": "code",
     "collapsed": false,
     "input": [
      "import pybrain\n",
      "from pybrain.datasets import *\n",
      "from pybrain.tools.shortcuts import buildNetwork\n",
      "from pybrain.supervised.trainers import BackpropTrainer\n",
      "import pickle\n",
      "\n",
      "#XOR \n",
      "if __name__ == \"__main__\":\n",
      "    ds = SupervisedDataSet(2, 1) # change the  number of inputs \n",
      "    \n",
      "    ds.addSample( (0,0) , (0,))\n",
      "    ds.addSample( (0,1) , (1,))\n",
      "    ds.addSample( (1,0) , (1,))\n",
      "    ds.addSample( (1,1) , (0,)) \n",
      "        \n",
      "\n",
      "    net = buildNetwork(2, 3, 1, bias=True) #\n",
      "\n",
      "    trainer = BackpropTrainer(net, learningrate = 0.01, momentum = 0.99)\n",
      "    trainer.trainOnDataset(ds, 1000)\n",
      "    trainer.testOnData()\n",
      "    \n",
      "    print net.activate((0,0))\n",
      "    print net.activate((0,1))\n",
      "    print net.activate((1,0))\n",
      "    print net.activate((1,1))"
     ],
     "language": "python",
     "metadata": {},
     "outputs": [
      {
       "output_type": "stream",
       "stream": "stdout",
       "text": [
        "[  1.40516624e-08]\n",
        "[ 1.00000002]\n",
        "[ 1.00000002]\n",
        "[  1.68753680e-08]\n"
       ]
      }
     ],
     "prompt_number": 24
    },
    {
     "cell_type": "heading",
     "level": 1,
     "metadata": {},
     "source": [
      "Problem 1(C).1"
     ]
    },
    {
     "cell_type": "code",
     "collapsed": false,
     "input": [
      "import pybrain\n",
      "from pybrain.datasets import *\n",
      "from pybrain.tools.shortcuts import buildNetwork\n",
      "from pybrain.supervised.trainers import BackpropTrainer\n",
      "import pickle\n",
      "\n",
      "#(A AND B) OR C\n",
      "if __name__ == \"__main__\":\n",
      "    ds = SupervisedDataSet(3, 1) # change the  number of inputs \n",
      "    \n",
      "    ds.addSample( (0,0,0) , (0,))\n",
      "    ds.addSample( (0,0,1) , (1,))\n",
      "    ds.addSample( (0,1,0) , (0,))\n",
      "    ds.addSample( (0,1,1) , (1,))\n",
      "    ds.addSample( (1,0,0) , (0,)) \n",
      "    ds.addSample( (1,0,1) , (1,))\n",
      "    ds.addSample( (1,1,0) , (1,)) \n",
      "    ds.addSample( (1,1,1) , (1,)) \n",
      "        \n",
      "\n",
      "    net = buildNetwork(3, 4, 1, bias=True) #\n",
      "\n",
      "    trainer = BackpropTrainer(net, learningrate = 0.01, momentum = 0.99)\n",
      "    trainer.trainOnDataset(ds, 1000)\n",
      "    trainer.testOnData()\n",
      "    \n",
      "    print net.activate((0,0,0))\n",
      "    print net.activate((0,0,1))\n",
      "    print net.activate((0,1,0))\n",
      "    print net.activate((0,1,1))\n",
      "    print net.activate((1,0,0))\n",
      "    print net.activate((1,0,1))\n",
      "    print net.activate((1,1,0))\n",
      "    print net.activate((1,1,1))"
     ],
     "language": "python",
     "metadata": {},
     "outputs": [
      {
       "output_type": "stream",
       "stream": "stdout",
       "text": [
        "[-0.00057634]\n",
        "[ 1.00781143]\n",
        "[ -1.51551349e-06]\n",
        "[ 0.9954827]\n",
        "[ 0.00069954]\n",
        "[ 0.98780657]\n",
        "[ 0.99025899]\n",
        "[ 1.01208382]\n"
       ]
      }
     ],
     "prompt_number": 14
    },
    {
     "cell_type": "heading",
     "level": 1,
     "metadata": {},
     "source": [
      "Problem 1(C).2"
     ]
    },
    {
     "cell_type": "code",
     "collapsed": false,
     "input": [
      "import pybrain\n",
      "from pybrain.datasets import *\n",
      "from pybrain.tools.shortcuts import buildNetwork\n",
      "from pybrain.supervised.trainers import BackpropTrainer\n",
      "import pickle\n",
      "\n",
      "#(NOT(A OR B)) AND C\n",
      "if __name__ == \"__main__\":\n",
      "    ds = SupervisedDataSet(3, 1) # change the  number of inputs \n",
      "    \n",
      "    ds.addSample( (0,0,0) , (0,))\n",
      "    ds.addSample( (0,0,1) , (1,))\n",
      "    ds.addSample( (0,1,0) , (0,))\n",
      "    ds.addSample( (0,1,1) , (0,))\n",
      "    ds.addSample( (1,0,0) , (0,)) \n",
      "    ds.addSample( (1,0,1) , (0,))\n",
      "    ds.addSample( (1,1,0) , (0,)) \n",
      "    ds.addSample( (1,1,1) , (0,)) \n",
      "        \n",
      "\n",
      "    net = buildNetwork(3, 4, 1, bias=True) #\n",
      "\n",
      "    trainer = BackpropTrainer(net, learningrate = 0.01, momentum = 0.99)\n",
      "    trainer.trainOnDataset(ds, 1000)\n",
      "    trainer.testOnData()\n",
      "    \n",
      "    print net.activate((0,0,0))\n",
      "    print net.activate((0,0,1))\n",
      "    print net.activate((0,1,0))\n",
      "    print net.activate((0,1,1))\n",
      "    print net.activate((1,0,0))\n",
      "    print net.activate((1,0,1))\n",
      "    print net.activate((1,1,0))\n",
      "    print net.activate((1,1,1))\n",
      "    \n",
      "    \n",
      "#[ 0.00457741]\n",
      "#[ 1.00006242]\n",
      "#[-0.01103938]\n",
      "#[ 0.00666701]\n",
      "#[-0.0097973]\n",
      "#[ 0.00376518]\n",
      "#[ 0.00873769]\n",
      "#[ 0.00497252]"
     ],
     "language": "python",
     "metadata": {},
     "outputs": [
      {
       "output_type": "stream",
       "stream": "stdout",
       "text": [
        "[ 0.00183824]\n",
        "[ 0.99654915]\n",
        "[-0.01249358]\n",
        "[ 0.00024868]\n",
        "[-0.0154922]\n",
        "[ 0.00062707]\n",
        "[ 0.0141068]\n",
        "[-0.01231528]\n"
       ]
      }
     ],
     "prompt_number": 20
    },
    {
     "cell_type": "heading",
     "level": 1,
     "metadata": {},
     "source": [
      "Problem 1(C).3"
     ]
    },
    {
     "cell_type": "code",
     "collapsed": false,
     "input": [
      "import pybrain\n",
      "from pybrain.datasets import *\n",
      "from pybrain.tools.shortcuts import buildNetwork\n",
      "from pybrain.supervised.trainers import BackpropTrainer\n",
      "import pickle\n",
      "\n",
      "#(NOT((A OR B) AND C)\n",
      "if __name__ == \"__main__\":\n",
      "    ds = SupervisedDataSet(3, 1) # change the  number of inputs \n",
      "    \n",
      "    ds.addSample( (0,0,0) , (0,))\n",
      "    ds.addSample( (0,0,1) , (0,))\n",
      "    ds.addSample( (0,1,0) , (0,))\n",
      "    ds.addSample( (0,1,1) , (1,))\n",
      "    ds.addSample( (1,0,0) , (0,)) \n",
      "    ds.addSample( (1,0,1) , (1,))\n",
      "    ds.addSample( (1,1,0) , (0,)) \n",
      "    ds.addSample( (1,1,1) , (1,)) \n",
      "        \n",
      "\n",
      "    net = buildNetwork(3, 4, 1, bias=True) #\n",
      "\n",
      "    trainer = BackpropTrainer(net, learningrate = 0.01, momentum = 0.99)\n",
      "    trainer.trainOnDataset(ds, 1000)\n",
      "    trainer.testOnData()\n",
      "    \n",
      "    print net.activate((0,0,0))\n",
      "    print net.activate((0,0,1))\n",
      "    print net.activate((0,1,0))\n",
      "    print net.activate((0,1,1))\n",
      "    print net.activate((1,0,0))\n",
      "    print net.activate((1,0,1))\n",
      "    print net.activate((1,1,0))\n",
      "    print net.activate((1,1,1))\n",
      "    \n",
      "#[-0.00035851]\n",
      "#[-0.00043657]\n",
      "#[-0.0018597]\n",
      "#[ 0.99889967]\n",
      "#[ 0.00259132]\n",
      "#[ 0.99081066]\n",
      "#[-0.00186706]\n",
      "#[ 1.00702547]"
     ],
     "language": "python",
     "metadata": {},
     "outputs": [
      {
       "output_type": "stream",
       "stream": "stdout",
       "text": [
        "[  8.88178420e-16]\n",
        "[  4.44089210e-16]\n",
        "[ -1.77635684e-15]\n",
        "[ 1.]\n",
        "[ -4.44089210e-16]\n",
        "[ 1.]\n",
        "[  1.11022302e-15]\n",
        "[ 1.]\n"
       ]
      }
     ],
     "prompt_number": 23
    },
    {
     "cell_type": "code",
     "collapsed": false,
     "input": [],
     "language": "python",
     "metadata": {},
     "outputs": []
    }
   ],
   "metadata": {}
  }
 ]
}
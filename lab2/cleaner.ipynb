{
 "metadata": {
  "name": "",
  "signature": "sha256:35a789a9615a72e07b10b18aa375acc40311934a6eb45365fdb2024082bf4ae0"
 },
 "nbformat": 3,
 "nbformat_minor": 0,
 "worksheets": [
  {
   "cells": [
    {
     "cell_type": "code",
     "collapsed": false,
     "input": [
      "import os\n",
      "import glob\n",
      "from PIL import Image\n",
      "from sys import argv\n",
      "\n",
      "def changeType(img):\n",
      "    im = Image.open(img)\n",
      "    first = img.split(\".\")[0]\n",
      "    im.save(first+\".png\")\n",
      "\n",
      "def resizespec(img,height,width):\n",
      "    im = Image.open(img).convert('LA')\n",
      "    w,h = im.size\n",
      "    newIm = im.resize((height,width))\n",
      "    first = img.split(\".\")[0]\n",
      "    newIm.save(first+\"copy.png\")\n",
      "\n",
      "def jpegToPng():\n",
      "    images = glob.glob(\"*.jpeg\")\n",
      "    for image in images:\n",
      "        changeType(image)\n",
      "    images = glob.glob(\"*.jpg\")\n",
      "    for image in images:\n",
      "        changeType(image)\n",
      "\n",
      "def resize(height,width):\n",
      "    images = glob.glob(\"*.png\")\n",
      "    for image in images:\n",
      "        resize(image,height,width)\n",
      "        \n",
      "for i in xrange(8,11):\n",
      "    jpegToPng()\n",
      "    img=\"cat\"+str(i)+'.png'\n",
      "    resizespec(img,40,40)\n",
      "    #img='dog'+str(i)+'.png'\n",
      "    #resizespec(img,40,40)\n",
      "    #img='gorilla'+str(i)+'.png'\n",
      "    #resizespec(img,40,40)\n",
      "    #img='giraffe'+str(i)+'.png'\n",
      "    #resizespec(img,40,40)\n",
      "    #img='alligator'+str(i)+'.png'\n",
      "    #resizespec(img,40,40)\n",
      "        "
     ],
     "language": "python",
     "metadata": {},
     "outputs": [],
     "prompt_number": 9
    },
    {
     "cell_type": "code",
     "collapsed": false,
     "input": [],
     "language": "python",
     "metadata": {},
     "outputs": []
    }
   ],
   "metadata": {}
  }
 ]
}
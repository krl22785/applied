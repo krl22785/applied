{
 "metadata": {
  "name": "",
  "signature": "sha256:778b0261d4a6b726471b68af8193cee9217dadfa5f6ca0f043667d89dcf49768"
 },
 "nbformat": 3,
 "nbformat_minor": 0,
 "worksheets": [
  {
   "cells": [
    {
     "cell_type": "heading",
     "level": 1,
     "metadata": {},
     "source": [
      "Problem 3(A)"
     ]
    },
    {
     "cell_type": "code",
     "collapsed": false,
     "input": [
      "from pybrain.datasets.supervised import SupervisedDataSet \n",
      "from pybrain.tools.shortcuts import buildNetwork\n",
      "from pybrain.supervised.trainers import BackpropTrainer\n",
      "import cv2\n",
      " \n",
      "def loadImage(path):\n",
      "    im = cv2.imread(path)\n",
      "    return flatten(im)\n",
      " \n",
      "def flatten(x):\n",
      "    result = []\n",
      "    for el in x:\n",
      "        if hasattr(el, \"__iter__\") and not isinstance(el, basestring):\n",
      "            result.extend(flatten(el))\n",
      "        else:\n",
      "            result.append(el)\n",
      "    return result\n",
      " \n",
      "if __name__ == \"__main__\":\n",
      " \n",
      "    t = loadImage('dog1copy.png')\n",
      "    \n",
      "    net = buildNetwork(len(t), .03*len(t), 1)\n",
      "    ds = SupervisedDataSet(len(t), 1)\n",
      "    \n",
      "    ds.addSample(loadImage('dog1copy.png'),(0,))\n",
      "    ds.addSample(loadImage('dog2copy.png'),(0,))\n",
      "    ds.addSample(loadImage('dog3copy.png'),(0,))\n",
      "    ds.addSample(loadImage('giraffe1copy.png'),(1,))\n",
      "    ds.addSample(loadImage('giraffe2copy.png'),(1,))\n",
      "    ds.addSample(loadImage('giraffe3copy.png'),(1,))\n",
      "    ds.addSample(loadImage('alligator1copy.png'),(2,))\n",
      "    ds.addSample(loadImage('alligator2copy.png'),(2,))\n",
      "    ds.addSample(loadImage('alligator3copy.png'),(2,))\n",
      "    ds.addSample(loadImage('gorilla1copy.png'),(3,))\n",
      "    ds.addSample(loadImage('gorilla2copy.png'),(3,))\n",
      "    ds.addSample(loadImage('gorilla3copy.png'),(3,))\n",
      "    ds.addSample(loadImage('cat1copy.png'),(4,))\n",
      "    ds.addSample(loadImage('cat2copy.png'),(4,))\n",
      "    ds.addSample(loadImage('cat3copy.png'),(4,))\n",
      "\n",
      "\n",
      "    trainer = BackpropTrainer(net, ds)\n",
      "    error = 10\n",
      "    iteration = 0\n",
      "    while error > 0.0001:\n",
      "        error = trainer.train()\n",
      "        iteration += 1\n",
      "        print \"Iteration: {0} Error {1}\".format(iteration, error)\n",
      "    \n",
      "    ### pick an animal image\n",
      "    \n",
      "    image1 = 'gorilla7copy.png'    \n",
      "    \n",
      "    output = net.activate(loadImage(image1))\n",
      "    \n",
      "    if round(output) == 0:\n",
      "        print \"\\nPicture {0} has a dog.\".format(image1)\n",
      "    elif round(output) == 1:\n",
      "        print \"\\nPicture {0} has a giraffe.\".format(image1)\n",
      "    elif round(output) == 2:\n",
      "        print \"\\nPicture {0} has a aligator.\".format(image1)\n",
      "    elif round(output) == 3:\n",
      "        print \"\\nPicture {0} has a gorilla.\".format(image1)\n",
      "    elif round(output) == 4:\n",
      "        print \"\\nPicture {0} has a cat.\".format(image1)\n",
      "    else:\n",
      "        print \"\\nPicture {0} has an unrecognizable animal.\".format(image1)"
     ],
     "language": "python",
     "metadata": {},
     "outputs": []
    },
    {
     "cell_type": "heading",
     "level": 1,
     "metadata": {},
     "source": [
      "Problem 3(B)"
     ]
    },
    {
     "cell_type": "code",
     "collapsed": false,
     "input": [
      "from pybrain.datasets.supervised import SupervisedDataSet \n",
      "from pybrain.tools.shortcuts import buildNetwork\n",
      "from pybrain.supervised.trainers import BackpropTrainer\n",
      "import cv2\n",
      " \n",
      "def loadImage(path):\n",
      "    im = cv2.imread(path)\n",
      "    return flatten(im)\n",
      " \n",
      "def flatten(x):\n",
      "    result = []\n",
      "    for el in x:\n",
      "        if hasattr(el, \"__iter__\") and not isinstance(el, basestring):\n",
      "            result.extend(flatten(el))\n",
      "        else:\n",
      "            result.append(el)\n",
      "    return result\n",
      " \n",
      "if __name__ == \"__main__\":\n",
      " \n",
      "    t = loadImage('dog1copy.png')\n",
      "    \n",
      "    net = buildNetwork(len(t), .03*len(t), 1)\n",
      "    ds = SupervisedDataSet(len(t), 1)\n",
      "    \n",
      "    ds.addSample(loadImage('dog1copy.png'),(0,))\n",
      "    ds.addSample(loadImage('dog2copy.png'),(0,))\n",
      "    ds.addSample(loadImage('dog3copy.png'),(0,))\n",
      "    ds.addSample(loadImage('dog4copy.png'),(0,))\n",
      "    ds.addSample(loadImage('dog5copy.png'),(0,))\n",
      "    ds.addSample(loadImage('dog6copy.png'),(0,))\n",
      "    ds.addSample(loadImage('dog7copy.png'),(0,))\n",
      "    ds.addSample(loadImage('giraffe1copy.png'),(1,))\n",
      "    ds.addSample(loadImage('giraffe2copy.png'),(1,))\n",
      "    ds.addSample(loadImage('giraffe3copy.png'),(1,))\n",
      "    ds.addSample(loadImage('giraffe4copy.png'),(1,))\n",
      "    ds.addSample(loadImage('giraffe5copy.png'),(1,))\n",
      "    ds.addSample(loadImage('giraffe6copy.png'),(1,))\n",
      "    ds.addSample(loadImage('giraffe7copy.png'),(1,))\n",
      "    ds.addSample(loadImage('alligator1copy.png'),(2,))\n",
      "    ds.addSample(loadImage('alligator2copy.png'),(2,))\n",
      "    ds.addSample(loadImage('alligator3copy.png'),(2,))\n",
      "    ds.addSample(loadImage('alligator4copy.png'),(2,))\n",
      "    ds.addSample(loadImage('alligator5copy.png'),(2,))\n",
      "    ds.addSample(loadImage('alligator6copy.png'),(2,))\n",
      "    ds.addSample(loadImage('alligator7copy.png'),(2,))\n",
      "    ds.addSample(loadImage('alligator8copy.png'),(2,))\n",
      "    ds.addSample(loadImage('gorilla1copy.png'),(3,))\n",
      "    ds.addSample(loadImage('gorilla2copy.png'),(3,))\n",
      "    ds.addSample(loadImage('gorilla3copy.png'),(3,))\n",
      "    ds.addSample(loadImage('gorilla4copy.png'),(3,))\n",
      "    ds.addSample(loadImage('gorilla5copy.png'),(3,))\n",
      "    ds.addSample(loadImage('gorilla6copy.png'),(3,))\n",
      "    ds.addSample(loadImage('gorilla7copy.png'),(3,))\n",
      "    ds.addSample(loadImage('cat1copy.png'),(4,))\n",
      "    ds.addSample(loadImage('cat2copy.png'),(4,))\n",
      "    ds.addSample(loadImage('cat3copy.png'),(4,))\n",
      "    ds.addSample(loadImage('cat4copy.png'),(4,))\n",
      "    ds.addSample(loadImage('cat5copy.png'),(4,))\n",
      "    ds.addSample(loadImage('cat6copy.png'),(4,))\n",
      "    ds.addSample(loadImage('cat7copy.png'),(4,))\n",
      "    ds.addSample(loadImage('cat8copy.png'),(4,))\n",
      "\n",
      "    trainer = BackpropTrainer(net, ds)\n",
      "    error = 10\n",
      "    iteration = 0\n",
      "    while error > 0.0001:\n",
      "        error = trainer.train()\n",
      "        iteration += 1\n",
      "        print \"Iteration: {0} Error {1}\".format(iteration, error)\n",
      "    \n",
      "    ### pick an animal image\n",
      "    \n",
      "    image1 = 'gorilla7copy.png'    \n",
      "    \n",
      "    output = net.activate(loadImage(image1))\n",
      "    \n",
      "    if round(output) == 0:\n",
      "        print \"\\nPicture {0} has a dog.\".format(image1)\n",
      "    elif round(output) == 1:\n",
      "        print \"\\nPicture {0} has a giraffe.\".format(image1)\n",
      "    elif round(output) == 2:\n",
      "        print \"\\nPicture {0} has a alligator.\".format(image1)\n",
      "    elif round(output) == 3:\n",
      "        print \"\\nPicture {0} has a gorilla.\".format(image1)\n",
      "    elif round(output) == 4:\n",
      "        print \"\\nPicture {0} has a cat.\".format(image1)\n",
      "    else:\n",
      "        print \"\\nPicture {0} has an unrecognizable animal.\".format(image1)\n"
     ],
     "language": "python",
     "metadata": {},
     "outputs": [
      {
       "output_type": "stream",
       "stream": "stdout",
       "text": [
        "Iteration: 1 Error 10.5667121051\n",
        "Iteration: 2 Error 8.17702155363"
       ]
      },
      {
       "output_type": "stream",
       "stream": "stdout",
       "text": [
        "\n",
        "Iteration: 3 Error 4.18774696649"
       ]
      },
      {
       "output_type": "stream",
       "stream": "stdout",
       "text": [
        "\n",
        "Iteration: 4 Error 3.99612063671"
       ]
      },
      {
       "output_type": "stream",
       "stream": "stdout",
       "text": [
        "\n",
        "Iteration: 5 Error 2.57392904216"
       ]
      },
      {
       "output_type": "stream",
       "stream": "stdout",
       "text": [
        "\n",
        "Iteration: 6 Error 1.69828765888"
       ]
      },
      {
       "output_type": "stream",
       "stream": "stdout",
       "text": [
        "\n",
        "Iteration: 7 Error 2.08909132785"
       ]
      },
      {
       "output_type": "stream",
       "stream": "stdout",
       "text": [
        "\n",
        "Iteration: 8 Error 1.51930875222"
       ]
      },
      {
       "output_type": "stream",
       "stream": "stdout",
       "text": [
        "\n",
        "Iteration: 9 Error 1.14811233232"
       ]
      },
      {
       "output_type": "stream",
       "stream": "stdout",
       "text": [
        "\n",
        "Iteration: 10 Error 1.23558283747"
       ]
      },
      {
       "output_type": "stream",
       "stream": "stdout",
       "text": [
        "\n",
        "Iteration: 11 Error 0.826521435372"
       ]
      },
      {
       "output_type": "stream",
       "stream": "stdout",
       "text": [
        "\n",
        "Iteration: 12 Error 0.678350531118"
       ]
      },
      {
       "output_type": "stream",
       "stream": "stdout",
       "text": [
        "\n",
        "Iteration: 13 Error 0.588432619183"
       ]
      },
      {
       "output_type": "stream",
       "stream": "stdout",
       "text": [
        "\n",
        "Iteration: 14 Error 0.631762397863"
       ]
      },
      {
       "output_type": "stream",
       "stream": "stdout",
       "text": [
        "\n",
        "Iteration: 15 Error 0.451554358405"
       ]
      },
      {
       "output_type": "stream",
       "stream": "stdout",
       "text": [
        "\n",
        "Iteration: 16 Error 0.429229517564"
       ]
      },
      {
       "output_type": "stream",
       "stream": "stdout",
       "text": [
        "\n",
        "Iteration: 17 Error 0.404303315663"
       ]
      },
      {
       "output_type": "stream",
       "stream": "stdout",
       "text": [
        "\n",
        "Iteration: 18 Error 0.329917467448"
       ]
      },
      {
       "output_type": "stream",
       "stream": "stdout",
       "text": [
        "\n",
        "Iteration: 19 Error 0.292999709342"
       ]
      },
      {
       "output_type": "stream",
       "stream": "stdout",
       "text": [
        "\n",
        "Iteration: 20 Error 0.245175889594"
       ]
      },
      {
       "output_type": "stream",
       "stream": "stdout",
       "text": [
        "\n",
        "Iteration: 21 Error 0.269133012395"
       ]
      },
      {
       "output_type": "stream",
       "stream": "stdout",
       "text": [
        "\n",
        "Iteration: 22 Error 0.201287757052"
       ]
      },
      {
       "output_type": "stream",
       "stream": "stdout",
       "text": [
        "\n",
        "Iteration: 23 Error 0.198899330194"
       ]
      },
      {
       "output_type": "stream",
       "stream": "stdout",
       "text": [
        "\n",
        "Iteration: 24 Error 0.192413754545"
       ]
      },
      {
       "output_type": "stream",
       "stream": "stdout",
       "text": [
        "\n",
        "Iteration: 25 Error 0.167323261199"
       ]
      },
      {
       "output_type": "stream",
       "stream": "stdout",
       "text": [
        "\n",
        "Iteration: 26 Error 0.153700747276"
       ]
      },
      {
       "output_type": "stream",
       "stream": "stdout",
       "text": [
        "\n",
        "Iteration: 27 Error 0.161433690588"
       ]
      },
      {
       "output_type": "stream",
       "stream": "stdout",
       "text": [
        "\n",
        "Iteration: 28 Error 0.159934736693"
       ]
      },
      {
       "output_type": "stream",
       "stream": "stdout",
       "text": [
        "\n",
        "Iteration: 29 Error 0.145794736903"
       ]
      },
      {
       "output_type": "stream",
       "stream": "stdout",
       "text": [
        "\n",
        "Iteration: 30 Error 0.116583186087"
       ]
      },
      {
       "output_type": "stream",
       "stream": "stdout",
       "text": [
        "\n",
        "Iteration: 31 Error 0.135705181139"
       ]
      },
      {
       "output_type": "stream",
       "stream": "stdout",
       "text": [
        "\n",
        "Iteration: 32 Error 0.10673314098"
       ]
      },
      {
       "output_type": "stream",
       "stream": "stdout",
       "text": [
        "\n",
        "Iteration: 33 Error 0.0957839044288"
       ]
      },
      {
       "output_type": "stream",
       "stream": "stdout",
       "text": [
        "\n",
        "Iteration: 34 Error 0.0995557056762"
       ]
      },
      {
       "output_type": "stream",
       "stream": "stdout",
       "text": [
        "\n",
        "Iteration: 35 Error 0.0878266915842"
       ]
      },
      {
       "output_type": "stream",
       "stream": "stdout",
       "text": [
        "\n",
        "Iteration: 36 Error 0.0760626732256"
       ]
      },
      {
       "output_type": "stream",
       "stream": "stdout",
       "text": [
        "\n",
        "Iteration: 37 Error 0.0768756653508"
       ]
      },
      {
       "output_type": "stream",
       "stream": "stdout",
       "text": [
        "\n",
        "Iteration: 38 Error 0.0629758681558"
       ]
      },
      {
       "output_type": "stream",
       "stream": "stdout",
       "text": [
        "\n",
        "Iteration: 39 Error 0.0588359838955"
       ]
      },
      {
       "output_type": "stream",
       "stream": "stdout",
       "text": [
        "\n",
        "Iteration: 40 Error 0.04207660202"
       ]
      },
      {
       "output_type": "stream",
       "stream": "stdout",
       "text": [
        "\n",
        "Iteration: 41 Error 0.0443893485097"
       ]
      },
      {
       "output_type": "stream",
       "stream": "stdout",
       "text": [
        "\n",
        "Iteration: 42 Error 0.0465874915138"
       ]
      },
      {
       "output_type": "stream",
       "stream": "stdout",
       "text": [
        "\n",
        "Iteration: 43 Error 0.0513935014899"
       ]
      },
      {
       "output_type": "stream",
       "stream": "stdout",
       "text": [
        "\n",
        "Iteration: 44 Error 0.0410916266499"
       ]
      },
      {
       "output_type": "stream",
       "stream": "stdout",
       "text": [
        "\n",
        "Iteration: 45 Error 0.0402437201637"
       ]
      },
      {
       "output_type": "stream",
       "stream": "stdout",
       "text": [
        "\n",
        "Iteration: 46 Error 0.0486380928142"
       ]
      },
      {
       "output_type": "stream",
       "stream": "stdout",
       "text": [
        "\n",
        "Iteration: 47 Error 0.0314866253704"
       ]
      },
      {
       "output_type": "stream",
       "stream": "stdout",
       "text": [
        "\n",
        "Iteration: 48 Error 0.0298587655903"
       ]
      },
      {
       "output_type": "stream",
       "stream": "stdout",
       "text": [
        "\n",
        "Iteration: 49 Error 0.0283113392321"
       ]
      },
      {
       "output_type": "stream",
       "stream": "stdout",
       "text": [
        "\n",
        "Iteration: 50 Error 0.0362749481553"
       ]
      },
      {
       "output_type": "stream",
       "stream": "stdout",
       "text": [
        "\n",
        "Iteration: 51 Error 0.0343153795137"
       ]
      },
      {
       "output_type": "stream",
       "stream": "stdout",
       "text": [
        "\n",
        "Iteration: 52 Error 0.0302496422395"
       ]
      },
      {
       "output_type": "stream",
       "stream": "stdout",
       "text": [
        "\n",
        "Iteration: 53 Error 0.0241040871947"
       ]
      },
      {
       "output_type": "stream",
       "stream": "stdout",
       "text": [
        "\n",
        "Iteration: 54 Error 0.0247421009848"
       ]
      },
      {
       "output_type": "stream",
       "stream": "stdout",
       "text": [
        "\n",
        "Iteration: 55 Error 0.0201638565262"
       ]
      },
      {
       "output_type": "stream",
       "stream": "stdout",
       "text": [
        "\n",
        "Iteration: 56 Error 0.0232261118103"
       ]
      },
      {
       "output_type": "stream",
       "stream": "stdout",
       "text": [
        "\n",
        "Iteration: 57 Error 0.0218460002475"
       ]
      },
      {
       "output_type": "stream",
       "stream": "stdout",
       "text": [
        "\n",
        "Iteration: 58 Error 0.0154611451334"
       ]
      },
      {
       "output_type": "stream",
       "stream": "stdout",
       "text": [
        "\n",
        "Iteration: 59 Error 0.0178141370874"
       ]
      },
      {
       "output_type": "stream",
       "stream": "stdout",
       "text": [
        "\n",
        "Iteration: 60 Error 0.0157440255897"
       ]
      },
      {
       "output_type": "stream",
       "stream": "stdout",
       "text": [
        "\n",
        "Iteration: 61 Error 0.0132829159991"
       ]
      },
      {
       "output_type": "stream",
       "stream": "stdout",
       "text": [
        "\n",
        "Iteration: 62 Error 0.0154708969332"
       ]
      },
      {
       "output_type": "stream",
       "stream": "stdout",
       "text": [
        "\n",
        "Iteration: 63 Error 0.0153169548046"
       ]
      },
      {
       "output_type": "stream",
       "stream": "stdout",
       "text": [
        "\n",
        "Iteration: 64 Error 0.0154307265213"
       ]
      },
      {
       "output_type": "stream",
       "stream": "stdout",
       "text": [
        "\n",
        "Iteration: 65 Error 0.0122775516642"
       ]
      },
      {
       "output_type": "stream",
       "stream": "stdout",
       "text": [
        "\n",
        "Iteration: 66 Error 0.00996122990594"
       ]
      },
      {
       "output_type": "stream",
       "stream": "stdout",
       "text": [
        "\n",
        "Iteration: 67 Error 0.00855481056964"
       ]
      },
      {
       "output_type": "stream",
       "stream": "stdout",
       "text": [
        "\n",
        "Iteration: 68 Error 0.0122651997345"
       ]
      },
      {
       "output_type": "stream",
       "stream": "stdout",
       "text": [
        "\n",
        "Iteration: 69 Error 0.00894359147267"
       ]
      },
      {
       "output_type": "stream",
       "stream": "stdout",
       "text": [
        "\n",
        "Iteration: 70 Error 0.0112957652177"
       ]
      },
      {
       "output_type": "stream",
       "stream": "stdout",
       "text": [
        "\n",
        "Iteration: 71 Error 0.0102759370939"
       ]
      },
      {
       "output_type": "stream",
       "stream": "stdout",
       "text": [
        "\n",
        "Iteration: 72 Error 0.00758749389515"
       ]
      },
      {
       "output_type": "stream",
       "stream": "stdout",
       "text": [
        "\n",
        "Iteration: 73 Error 0.00692254735607"
       ]
      },
      {
       "output_type": "stream",
       "stream": "stdout",
       "text": [
        "\n",
        "Iteration: 74 Error 0.00830723576495"
       ]
      },
      {
       "output_type": "stream",
       "stream": "stdout",
       "text": [
        "\n",
        "Iteration: 75 Error 0.00708776905535"
       ]
      },
      {
       "output_type": "stream",
       "stream": "stdout",
       "text": [
        "\n",
        "Iteration: 76 Error 0.00635164172472"
       ]
      },
      {
       "output_type": "stream",
       "stream": "stdout",
       "text": [
        "\n",
        "Iteration: 77 Error 0.00669385904341"
       ]
      },
      {
       "output_type": "stream",
       "stream": "stdout",
       "text": [
        "\n",
        "Iteration: 78 Error 0.00681509422842"
       ]
      },
      {
       "output_type": "stream",
       "stream": "stdout",
       "text": [
        "\n",
        "Iteration: 79 Error 0.00656557094055"
       ]
      },
      {
       "output_type": "stream",
       "stream": "stdout",
       "text": [
        "\n",
        "Iteration: 80 Error 0.00547998826882"
       ]
      },
      {
       "output_type": "stream",
       "stream": "stdout",
       "text": [
        "\n",
        "Iteration: 81 Error 0.00531734374609"
       ]
      },
      {
       "output_type": "stream",
       "stream": "stdout",
       "text": [
        "\n",
        "Iteration: 82 Error 0.00529554527294"
       ]
      },
      {
       "output_type": "stream",
       "stream": "stdout",
       "text": [
        "\n",
        "Iteration: 83 Error 0.00516319317864"
       ]
      },
      {
       "output_type": "stream",
       "stream": "stdout",
       "text": [
        "\n",
        "Iteration: 84 Error 0.00456046057695"
       ]
      },
      {
       "output_type": "stream",
       "stream": "stdout",
       "text": [
        "\n",
        "Iteration: 85 Error 0.00481779663507"
       ]
      },
      {
       "output_type": "stream",
       "stream": "stdout",
       "text": [
        "\n",
        "Iteration: 86 Error 0.00431573213131"
       ]
      },
      {
       "output_type": "stream",
       "stream": "stdout",
       "text": [
        "\n",
        "Iteration: 87 Error 0.00364558283261"
       ]
      },
      {
       "output_type": "stream",
       "stream": "stdout",
       "text": [
        "\n",
        "Iteration: 88 Error 0.00374097009731"
       ]
      },
      {
       "output_type": "stream",
       "stream": "stdout",
       "text": [
        "\n",
        "Iteration: 89 Error 0.00444555036481"
       ]
      },
      {
       "output_type": "stream",
       "stream": "stdout",
       "text": [
        "\n",
        "Iteration: 90 Error 0.00379457526671"
       ]
      },
      {
       "output_type": "stream",
       "stream": "stdout",
       "text": [
        "\n",
        "Iteration: 91 Error 0.00349488756735"
       ]
      },
      {
       "output_type": "stream",
       "stream": "stdout",
       "text": [
        "\n",
        "Iteration: 92 Error 0.0030126459799"
       ]
      },
      {
       "output_type": "stream",
       "stream": "stdout",
       "text": [
        "\n",
        "Iteration: 93 Error 0.00269266650017"
       ]
      },
      {
       "output_type": "stream",
       "stream": "stdout",
       "text": [
        "\n",
        "Iteration: 94 Error 0.00324350128214"
       ]
      },
      {
       "output_type": "stream",
       "stream": "stdout",
       "text": [
        "\n",
        "Iteration: 95 Error 0.00270944310435"
       ]
      },
      {
       "output_type": "stream",
       "stream": "stdout",
       "text": [
        "\n",
        "Iteration: 96 Error 0.00248677731888"
       ]
      },
      {
       "output_type": "stream",
       "stream": "stdout",
       "text": [
        "\n",
        "Iteration: 97 Error 0.00287489045166"
       ]
      },
      {
       "output_type": "stream",
       "stream": "stdout",
       "text": [
        "\n",
        "Iteration: 98 Error 0.00192005913052"
       ]
      },
      {
       "output_type": "stream",
       "stream": "stdout",
       "text": [
        "\n",
        "Iteration: 99 Error 0.00214122393635"
       ]
      },
      {
       "output_type": "stream",
       "stream": "stdout",
       "text": [
        "\n",
        "Iteration: 100 Error 0.0021891739202"
       ]
      },
      {
       "output_type": "stream",
       "stream": "stdout",
       "text": [
        "\n",
        "Iteration: 101 Error 0.00148337982821"
       ]
      },
      {
       "output_type": "stream",
       "stream": "stdout",
       "text": [
        "\n",
        "Iteration: 102 Error 0.00214414405292"
       ]
      },
      {
       "output_type": "stream",
       "stream": "stdout",
       "text": [
        "\n",
        "Iteration: 103 Error 0.00197835702274"
       ]
      },
      {
       "output_type": "stream",
       "stream": "stdout",
       "text": [
        "\n",
        "Iteration: 104 Error 0.0016772723145"
       ]
      },
      {
       "output_type": "stream",
       "stream": "stdout",
       "text": [
        "\n",
        "Iteration: 105 Error 0.00112233964229"
       ]
      },
      {
       "output_type": "stream",
       "stream": "stdout",
       "text": [
        "\n",
        "Iteration: 106 Error 0.00148417147161"
       ]
      },
      {
       "output_type": "stream",
       "stream": "stdout",
       "text": [
        "\n",
        "Iteration: 107 Error 0.00116360314623"
       ]
      },
      {
       "output_type": "stream",
       "stream": "stdout",
       "text": [
        "\n",
        "Iteration: 108 Error 0.0012207824265"
       ]
      },
      {
       "output_type": "stream",
       "stream": "stdout",
       "text": [
        "\n",
        "Iteration: 109 Error 0.00102680391076"
       ]
      },
      {
       "output_type": "stream",
       "stream": "stdout",
       "text": [
        "\n",
        "Iteration: 110 Error 0.001264844233"
       ]
      },
      {
       "output_type": "stream",
       "stream": "stdout",
       "text": [
        "\n",
        "Iteration: 111 Error 0.00108410842853"
       ]
      },
      {
       "output_type": "stream",
       "stream": "stdout",
       "text": [
        "\n",
        "Iteration: 112 Error 0.00091860339511"
       ]
      },
      {
       "output_type": "stream",
       "stream": "stdout",
       "text": [
        "\n",
        "Iteration: 113 Error 0.00119566680114"
       ]
      },
      {
       "output_type": "stream",
       "stream": "stdout",
       "text": [
        "\n",
        "Iteration: 114 Error 0.0010425095186"
       ]
      },
      {
       "output_type": "stream",
       "stream": "stdout",
       "text": [
        "\n",
        "Iteration: 115 Error 0.00105851921146"
       ]
      },
      {
       "output_type": "stream",
       "stream": "stdout",
       "text": [
        "\n",
        "Iteration: 116 Error 0.000998043547477"
       ]
      },
      {
       "output_type": "stream",
       "stream": "stdout",
       "text": [
        "\n",
        "Iteration: 117 Error 0.000987803141561"
       ]
      },
      {
       "output_type": "stream",
       "stream": "stdout",
       "text": [
        "\n",
        "Iteration: 118 Error 0.000581847286179"
       ]
      },
      {
       "output_type": "stream",
       "stream": "stdout",
       "text": [
        "\n",
        "Iteration: 119 Error 0.000801349208451"
       ]
      },
      {
       "output_type": "stream",
       "stream": "stdout",
       "text": [
        "\n",
        "Iteration: 120 Error 0.000986035810948"
       ]
      },
      {
       "output_type": "stream",
       "stream": "stdout",
       "text": [
        "\n",
        "Iteration: 121 Error 0.000760053172428"
       ]
      },
      {
       "output_type": "stream",
       "stream": "stdout",
       "text": [
        "\n",
        "Iteration: 122 Error 0.000695356728511"
       ]
      },
      {
       "output_type": "stream",
       "stream": "stdout",
       "text": [
        "\n",
        "Iteration: 123 Error 0.000496069011719"
       ]
      },
      {
       "output_type": "stream",
       "stream": "stdout",
       "text": [
        "\n",
        "Iteration: 124 Error 0.000647520878092"
       ]
      },
      {
       "output_type": "stream",
       "stream": "stdout",
       "text": [
        "\n",
        "Iteration: 125 Error 0.000632327897615"
       ]
      },
      {
       "output_type": "stream",
       "stream": "stdout",
       "text": [
        "\n",
        "Iteration: 126 Error 0.000469095911837"
       ]
      },
      {
       "output_type": "stream",
       "stream": "stdout",
       "text": [
        "\n",
        "Iteration: 127 Error 0.000521091921386"
       ]
      },
      {
       "output_type": "stream",
       "stream": "stdout",
       "text": [
        "\n",
        "Iteration: 128 Error 0.000528682221102"
       ]
      },
      {
       "output_type": "stream",
       "stream": "stdout",
       "text": [
        "\n",
        "Iteration: 129 Error 0.000612391621142"
       ]
      },
      {
       "output_type": "stream",
       "stream": "stdout",
       "text": [
        "\n",
        "Iteration: 130 Error 0.000505630347854"
       ]
      },
      {
       "output_type": "stream",
       "stream": "stdout",
       "text": [
        "\n",
        "Iteration: 131 Error 0.000488291098962"
       ]
      },
      {
       "output_type": "stream",
       "stream": "stdout",
       "text": [
        "\n",
        "Iteration: 132 Error 0.000421354892574"
       ]
      },
      {
       "output_type": "stream",
       "stream": "stdout",
       "text": [
        "\n",
        "Iteration: 133 Error 0.000427766692991"
       ]
      },
      {
       "output_type": "stream",
       "stream": "stdout",
       "text": [
        "\n",
        "Iteration: 134 Error 0.000349169215526"
       ]
      },
      {
       "output_type": "stream",
       "stream": "stdout",
       "text": [
        "\n",
        "Iteration: 135 Error 0.000387439470977"
       ]
      },
      {
       "output_type": "stream",
       "stream": "stdout",
       "text": [
        "\n",
        "Iteration: 136 Error 0.000370587770835"
       ]
      },
      {
       "output_type": "stream",
       "stream": "stdout",
       "text": [
        "\n",
        "Iteration: 137 Error 0.000400920809162"
       ]
      },
      {
       "output_type": "stream",
       "stream": "stdout",
       "text": [
        "\n",
        "Iteration: 138 Error 0.000255329568872"
       ]
      },
      {
       "output_type": "stream",
       "stream": "stdout",
       "text": [
        "\n",
        "Iteration: 139 Error 0.000295439996628"
       ]
      },
      {
       "output_type": "stream",
       "stream": "stdout",
       "text": [
        "\n",
        "Iteration: 140 Error 0.000288987002647"
       ]
      },
      {
       "output_type": "stream",
       "stream": "stdout",
       "text": [
        "\n",
        "Iteration: 141 Error 0.000234830427898"
       ]
      },
      {
       "output_type": "stream",
       "stream": "stdout",
       "text": [
        "\n",
        "Iteration: 142 Error 0.000266875796768"
       ]
      },
      {
       "output_type": "stream",
       "stream": "stdout",
       "text": [
        "\n",
        "Iteration: 143 Error 0.000255365173687"
       ]
      },
      {
       "output_type": "stream",
       "stream": "stdout",
       "text": [
        "\n",
        "Iteration: 144 Error 0.000276067270804"
       ]
      },
      {
       "output_type": "stream",
       "stream": "stdout",
       "text": [
        "\n",
        "Iteration: 145 Error 0.000198717626151"
       ]
      },
      {
       "output_type": "stream",
       "stream": "stdout",
       "text": [
        "\n",
        "Iteration: 146 Error 0.000176498979552"
       ]
      },
      {
       "output_type": "stream",
       "stream": "stdout",
       "text": [
        "\n",
        "Iteration: 147 Error 0.000174633467129"
       ]
      },
      {
       "output_type": "stream",
       "stream": "stdout",
       "text": [
        "\n",
        "Iteration: 148 Error 0.000235040739166"
       ]
      },
      {
       "output_type": "stream",
       "stream": "stdout",
       "text": [
        "\n",
        "Iteration: 149 Error 0.000192646643473"
       ]
      },
      {
       "output_type": "stream",
       "stream": "stdout",
       "text": [
        "\n",
        "Iteration: 150 Error 0.000174302473904"
       ]
      },
      {
       "output_type": "stream",
       "stream": "stdout",
       "text": [
        "\n",
        "Iteration: 151 Error 0.00015489069109"
       ]
      },
      {
       "output_type": "stream",
       "stream": "stdout",
       "text": [
        "\n",
        "Iteration: 152 Error 0.000188191813617"
       ]
      },
      {
       "output_type": "stream",
       "stream": "stdout",
       "text": [
        "\n",
        "Iteration: 153 Error 0.000183018164415"
       ]
      },
      {
       "output_type": "stream",
       "stream": "stdout",
       "text": [
        "\n",
        "Iteration: 154 Error 0.000159112698506"
       ]
      },
      {
       "output_type": "stream",
       "stream": "stdout",
       "text": [
        "\n",
        "Iteration: 155 Error 0.000151946250864"
       ]
      },
      {
       "output_type": "stream",
       "stream": "stdout",
       "text": [
        "\n",
        "Iteration: 156 Error 0.000139830378313"
       ]
      },
      {
       "output_type": "stream",
       "stream": "stdout",
       "text": [
        "\n",
        "Iteration: 157 Error 0.000140216831189"
       ]
      },
      {
       "output_type": "stream",
       "stream": "stdout",
       "text": [
        "\n",
        "Iteration: 158 Error 0.000115902280471"
       ]
      },
      {
       "output_type": "stream",
       "stream": "stdout",
       "text": [
        "\n",
        "Iteration: 159 Error 0.000119572679764"
       ]
      },
      {
       "output_type": "stream",
       "stream": "stdout",
       "text": [
        "\n",
        "Iteration: 160 Error 0.00012447983144"
       ]
      },
      {
       "output_type": "stream",
       "stream": "stdout",
       "text": [
        "\n",
        "Iteration: 161 Error 0.000105188238224"
       ]
      },
      {
       "output_type": "stream",
       "stream": "stdout",
       "text": [
        "\n",
        "Iteration: 162 Error 0.000117787663448"
       ]
      },
      {
       "output_type": "stream",
       "stream": "stdout",
       "text": [
        "\n",
        "Iteration: 163 Error 8.55161197875e-05"
       ]
      },
      {
       "output_type": "stream",
       "stream": "stdout",
       "text": [
        "\n",
        "\n",
        "Picture gorilla7copy.png has a gorilla.\n"
       ]
      }
     ],
     "prompt_number": 13
    },
    {
     "cell_type": "code",
     "collapsed": false,
     "input": [
      "print \"hellodfafa\""
     ],
     "language": "python",
     "metadata": {},
     "outputs": [
      {
       "output_type": "stream",
       "stream": "stdout",
       "text": [
        "hellodfafa\n"
       ]
      }
     ],
     "prompt_number": 29
    },
    {
     "cell_type": "code",
     "collapsed": false,
     "input": [
      "print round(4.65)"
     ],
     "language": "python",
     "metadata": {},
     "outputs": [
      {
       "output_type": "stream",
       "stream": "stdout",
       "text": [
        "5.0\n"
       ]
      }
     ],
     "prompt_number": 58
    },
    {
     "cell_type": "code",
     "collapsed": false,
     "input": [],
     "language": "python",
     "metadata": {},
     "outputs": []
    }
   ],
   "metadata": {}
  }
 ]
}
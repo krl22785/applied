{
 "metadata": {
  "name": "",
  "signature": "sha256:649aaab16757da3aef7ea6177fab516122ec5fef968a60233b8ef1114962ad59"
 },
 "nbformat": 3,
 "nbformat_minor": 0,
 "worksheets": [
  {
   "cells": [
    {
     "cell_type": "code",
     "collapsed": false,
     "input": [
      "import numpy as np\n",
      "from scipy.io import wavfile\n",
      "import scipy.stats as sps\n",
      "import matplotlib.pyplot as plt\n",
      "import mpld3\n",
      "import matplotlib.pylab as pylab\n",
      "\n",
      "from scipy.io import wavfile\n",
      "import scipy.signal as signal"
     ],
     "language": "python",
     "metadata": {},
     "outputs": [],
     "prompt_number": 45
    },
    {
     "cell_type": "heading",
     "level": 5,
     "metadata": {},
     "source": [
      "Part 1: Load the urban audio "
     ]
    },
    {
     "cell_type": "code",
     "collapsed": false,
     "input": [
      "fs, samples = wavfile.read('audio/brooklyn_street.wav')"
     ],
     "language": "python",
     "metadata": {},
     "outputs": [],
     "prompt_number": 197
    },
    {
     "cell_type": "code",
     "collapsed": false,
     "input": [
      "dur = float(len(samples)) / fs\n",
      "sample_len = len(samples)\n",
      "T = np.linspace(0, dur, num = sample_len)\n",
      "\n",
      "ab_samples = np.abs(samples)"
     ],
     "language": "python",
     "metadata": {},
     "outputs": [],
     "prompt_number": 198
    },
    {
     "cell_type": "heading",
     "level": 6,
     "metadata": {},
     "source": [
      "Part 2: Plot waveform"
     ]
    },
    {
     "cell_type": "code",
     "collapsed": false,
     "input": [
      "plt.figure()\n",
      "plt.plot(T, samples, alpha = .25)\n",
      "plt.title(\"time domain\")"
     ],
     "language": "python",
     "metadata": {},
     "outputs": [
      {
       "metadata": {},
       "output_type": "pyout",
       "prompt_number": 200,
       "text": [
        "<matplotlib.text.Text at 0x13a6c5a10>"
       ]
      }
     ],
     "prompt_number": 200
    },
    {
     "cell_type": "heading",
     "level": 6,
     "metadata": {},
     "source": [
      "Part 3: Implement Moving Average"
     ]
    },
    {
     "cell_type": "code",
     "collapsed": false,
     "input": [
      "window_size = int(.125*fs)\n",
      "hop_size = window_size/2\n",
      "w = np.hanning(window_size)\n",
      "\n",
      "\n",
      "# window_avg = [np.mean(w*samples[i:i+window_size]) \\\n",
      "#               for i in range(0, len(samples), hop_size) if i+window_size <= len(samples)] \n",
      "\n",
      "#window_avg = [np.mean(w*ab_samples[i:i+window_size]) \\\n",
      "               #for i in range(0, len(ab_samples), hop_size) if i+window_size <= len(ab_samples)] \n",
      "\n",
      "window_avg = [np.sqrt((np.sum([i ** 2 for i in ab_samples[i:i+window_size]])/window_size)) \\\n",
      "                for i in range(0, len(ab_samples), hop_size) if i+window_size <= len(ab_samples)]\n",
      "\n",
      "T = np.linspace(0, dur, num = len(window_avg))"
     ],
     "language": "python",
     "metadata": {},
     "outputs": [],
     "prompt_number": 205
    },
    {
     "cell_type": "code",
     "collapsed": false,
     "input": [
      "print \"Length of ALL audio samples array: %s\" % len(samples)\n",
      "print \"Length of audio samples array: %s\" % len(ab_samples)\n",
      "print \"Length of windowed array: %s\" % len(window_avg)"
     ],
     "language": "python",
     "metadata": {},
     "outputs": [
      {
       "output_type": "stream",
       "stream": "stdout",
       "text": [
        "Length of ALL audio samples array: 2533368\n",
        "Length of audio samples array: 2533368\n",
        "Length of windowed array: 918\n"
       ]
      }
     ],
     "prompt_number": 72
    },
    {
     "cell_type": "code",
     "collapsed": false,
     "input": [],
     "language": "python",
     "metadata": {},
     "outputs": [
      {
       "metadata": {},
       "output_type": "pyout",
       "prompt_number": 203,
       "text": [
        "5512"
       ]
      }
     ],
     "prompt_number": 203
    },
    {
     "cell_type": "code",
     "collapsed": false,
     "input": [
      "plt.plot(T, window_avg, color = 'r')\n",
      "plt.xlim([0, np.max(T)])\n",
      "plt.title('Brooklyn street')\n",
      "plt.xlabel('Time (s)')\n",
      "plt.ylabel('Absolute amplitude')"
     ],
     "language": "python",
     "metadata": {},
     "outputs": [
      {
       "metadata": {},
       "output_type": "pyout",
       "prompt_number": 202,
       "text": [
        "<matplotlib.text.Text at 0x1329756d0>"
       ]
      }
     ],
     "prompt_number": 202
    },
    {
     "cell_type": "code",
     "collapsed": false,
     "input": [],
     "language": "python",
     "metadata": {},
     "outputs": [],
     "prompt_number": 152
    },
    {
     "cell_type": "code",
     "collapsed": false,
     "input": [
      "test = np.array([1,2,3,4,5,6,7,8,9])\n",
      "\n",
      "test1 = np.array([i**2 for i in test])\n",
      "\n",
      "test2 = np.sqrt((np.sum([i**2 for i in test])))"
     ],
     "language": "python",
     "metadata": {},
     "outputs": [],
     "prompt_number": 102
    },
    {
     "cell_type": "code",
     "collapsed": false,
     "input": [
      "[[i*jump:(i+1)*jump] for i in test]"
     ],
     "language": "python",
     "metadata": {},
     "outputs": [
      {
       "ename": "SyntaxError",
       "evalue": "invalid syntax (<ipython-input-41-059efd44405d>, line 1)",
       "output_type": "pyerr",
       "traceback": [
        "\u001b[0;36m  File \u001b[0;32m\"<ipython-input-41-059efd44405d>\"\u001b[0;36m, line \u001b[0;32m1\u001b[0m\n\u001b[0;31m    [[i*jump:(i+1)*jump] for i in test]\u001b[0m\n\u001b[0m            ^\u001b[0m\n\u001b[0;31mSyntaxError\u001b[0m\u001b[0;31m:\u001b[0m invalid syntax\n"
       ]
      }
     ],
     "prompt_number": 41
    },
    {
     "cell_type": "code",
     "collapsed": false,
     "input": [
      "len(samples)"
     ],
     "language": "python",
     "metadata": {},
     "outputs": [
      {
       "metadata": {},
       "output_type": "pyout",
       "prompt_number": 183,
       "text": [
        "2533368"
       ]
      }
     ],
     "prompt_number": 183
    },
    {
     "cell_type": "code",
     "collapsed": false,
     "input": [],
     "language": "python",
     "metadata": {},
     "outputs": [],
     "prompt_number": 146
    },
    {
     "cell_type": "code",
     "collapsed": false,
     "input": [],
     "language": "python",
     "metadata": {},
     "outputs": [],
     "prompt_number": 146
    },
    {
     "cell_type": "code",
     "collapsed": false,
     "input": [],
     "language": "python",
     "metadata": {},
     "outputs": [],
     "prompt_number": 146
    },
    {
     "cell_type": "code",
     "collapsed": false,
     "input": [],
     "language": "python",
     "metadata": {},
     "outputs": [],
     "prompt_number": 146
    },
    {
     "cell_type": "code",
     "collapsed": false,
     "input": [],
     "language": "python",
     "metadata": {},
     "outputs": [],
     "prompt_number": 146
    },
    {
     "cell_type": "code",
     "collapsed": false,
     "input": [],
     "language": "python",
     "metadata": {},
     "outputs": []
    }
   ],
   "metadata": {}
  }
 ]
}